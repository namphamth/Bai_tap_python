{
 "cells": [
  {
   "cell_type": "code",
   "execution_count": 1,
   "metadata": {},
   "outputs": [
    {
     "name": "stdout",
     "output_type": "stream",
     "text": [
      "[('Minh', 22, 165.5) ('Lan', 40, 160. ) ('Linh', 31, 165. )\n",
      " ('Lương', 18, 166.5) ('Thanh', 50, 170. )]\n",
      "[('name', '<U20'), ('age', '<i8'), ('height', '<f8')]\n"
     ]
    }
   ],
   "source": [
    "import numpy as np\n",
    "# Định nghĩa kiểu dữ liệu cho một Structured Array\n",
    "dtype = [('name', 'U20'), ('age', int), ('height', float)]\n",
    "\n",
    "# Tạo một Structured Array\n",
    "data = np.array([('Minh', 22, 165.5),\n",
    "                 ('Lan', 40, 160.0),\n",
    "                 ('Linh', 31, 165.0),\n",
    "                 ('Lương',18,166.5),\n",
    "                 ('Thanh',50, 170.0)], dtype=dtype)\n",
    "\n",
    "print(data)\n",
    "print(data)\n",
    "print(data)\n",
    "\n",
    "print(data.dtype)"
   ]
  },
  {
   "cell_type": "code",
   "execution_count": 3,
   "metadata": {},
   "outputs": [
    {
     "data": {
      "text/plain": [
       "dtype([('name', '<U10'), ('age', '<i4'), ('height', '<f8')])"
      ]
     },
     "execution_count": 3,
     "metadata": {},
     "output_type": "execute_result"
    }
   ],
   "source": [
    "np.dtype({'names':('name','age','height'),\n",
    "'formats':('U10','i4','f8')})"
   ]
  },
  {
   "cell_type": "code",
   "execution_count": 4,
   "metadata": {},
   "outputs": [
    {
     "data": {
      "text/plain": [
       "dtype([('name', 'S10'), ('age', '<i4'), ('height', '<f8')])"
      ]
     },
     "execution_count": 4,
     "metadata": {},
     "output_type": "execute_result"
    }
   ],
   "source": [
    "np.dtype([('name','S10'),('age','i4'),('height','f8')])"
   ]
  },
  {
   "cell_type": "code",
   "execution_count": 5,
   "metadata": {},
   "outputs": [
    {
     "data": {
      "text/plain": [
       "dtype([('f0', 'S10'), ('f1', '<i4'), ('f2', '<f8')])"
      ]
     },
     "execution_count": 5,
     "metadata": {},
     "output_type": "execute_result"
    }
   ],
   "source": [
    "np. dtype('S10,i4,f8' )"
   ]
  },
  {
   "cell_type": "code",
   "execution_count": 6,
   "metadata": {},
   "outputs": [
    {
     "name": "stdout",
     "output_type": "stream",
     "text": [
      "['Minh' 'Lan' 'Linh' 'Lương' 'Thanh']\n",
      "[22 40 31 18 50]\n",
      "[165.5 160.  165.  166.5 170. ]\n",
      "[('name', '<U20'), ('age', '<i8'), ('height', '<f8')]\n"
     ]
    }
   ],
   "source": [
    "import numpy as np\n",
    "# Định nghĩa kiểu dữ liệu cho một Structured Array\n",
    "dtype = [('name', 'U20'), ('age', int), ('height', float)]\n",
    "# Tạo một Structured Array\n",
    "data = np.array([('Minh', 22, 165.5),\n",
    "                ('Lan', 40, 160.0),\n",
    "                ('Linh', 31, 165.0),\n",
    "                ('Lương',18,166.5),\n",
    "                ('Thanh',50, 170.0)], dtype=dtype)\n",
    "print(data[('name')])\n",
    "print(data[('age')])\n",
    "print(data[('height')])\n",
    "print(data.dtype)"
   ]
  },
  {
   "cell_type": "code",
   "execution_count": null,
   "metadata": {},
   "outputs": [],
   "source": []
  }
 ],
 "metadata": {
  "kernelspec": {
   "display_name": "Python 3",
   "language": "python",
   "name": "python3"
  },
  "language_info": {
   "codemirror_mode": {
    "name": "ipython",
    "version": 3
   },
   "file_extension": ".py",
   "mimetype": "text/x-python",
   "name": "python",
   "nbconvert_exporter": "python",
   "pygments_lexer": "ipython3",
   "version": "3.10.10"
  }
 },
 "nbformat": 4,
 "nbformat_minor": 2
}
