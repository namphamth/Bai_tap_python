{
 "cells": [
  {
   "cell_type": "code",
   "execution_count": 9,
   "metadata": {},
   "outputs": [
    {
     "name": "stdout",
     "output_type": "stream",
     "text": [
      "Tổng các phần tử mảng arr khi sử dụng vòng lặp: 4999999950000000\n",
      "Thời gian (giây) khi sử dụng vòng lặp: 7.001388072967529\n",
      "Tổng các phần tử mảng arr khi sử dụng hàm np.sum(): 4999999950000000\n",
      "Thời gian (giây) khi sử dụng np.sum(): 0.017121076583862305\n",
      "Sử dụng vòng lặp chậm hơn: ~ 408 lần\n"
     ]
    }
   ],
   "source": [
    "import numpy as np\n",
    "import time\n",
    "\n",
    "# Tạo một mảng NumPy với 100.000.000 phần tử\n",
    "arr = np.arange(100000000, dtype=np.int64)\n",
    "\n",
    "# Tính tổng các phần tử của mảng bằng vòng lặp\n",
    "start_time = time.time()\n",
    "total = np.int64(0)\n",
    "\n",
    "for num in arr:\n",
    "   total += num\n",
    "end_time = time.time()\n",
    "elapsed_time_loop = end_time - start_time\n",
    "print(\"Tổng các phần tử mảng arr khi sử dụng vòng lặp:\", total) \n",
    "print(\"Thời gian (giây) khi sử dụng vòng lặp:\", elapsed_time_loop) # Tính tổng các phần tử của mảng bằng np.sum()\n",
    "start_time = time.time()\n",
    "total = np.sum(arr)\n",
    "end_time = time.time()\n",
    "elapsed_time_npsum = end_time - start_time\n",
    "print(\"Tổng các phần tử mảng arr khi sử dụng hàm np.sum():\", total) \n",
    "print(\"Thời gian (giây) khi sử dụng np.sum():\", elapsed_time_npsum) \n",
    "num_times_faster = elapsed_time_loop / elapsed_time_npsum \n",
    "print(\"Sử dụng vòng lặp chậm hơn: ~\",int(num_times_faster),\"lần\") "
   ]
  }
 ],
 "metadata": {
  "kernelspec": {
   "display_name": "Python 3",
   "language": "python",
   "name": "python3"
  },
  "language_info": {
   "codemirror_mode": {
    "name": "ipython",
    "version": 3
   },
   "file_extension": ".py",
   "mimetype": "text/x-python",
   "name": "python",
   "nbconvert_exporter": "python",
   "pygments_lexer": "ipython3",
   "version": "3.10.10"
  }
 },
 "nbformat": 4,
 "nbformat_minor": 2
}
