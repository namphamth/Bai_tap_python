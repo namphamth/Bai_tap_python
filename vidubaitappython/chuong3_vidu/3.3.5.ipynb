{
 "cells": [
  {
   "cell_type": "code",
   "execution_count": 7,
   "metadata": {},
   "outputs": [
    {
     "name": "stdout",
     "output_type": "stream",
     "text": [
      "[1 2 3]\n",
      "[1 2 3 4]\n"
     ]
    }
   ],
   "source": [
    "import numpy as np\n",
    "arr=np.array([1,2,3])\n",
    "new_arr=np.append(arr,4)\n",
    "print(arr)\n",
    "print(new_arr)"
   ]
  },
  {
   "cell_type": "code",
   "execution_count": 2,
   "metadata": {},
   "outputs": [
    {
     "name": "stdout",
     "output_type": "stream",
     "text": [
      "[ 1  2 10  3  4  5]\n"
     ]
    }
   ],
   "source": [
    "#Thêm phần tử vào vị trí cụ thể trong mảng 1 chiều:\n",
    "arr = np.array([1, 2, 3, 4, 5])\n",
    "new_element = 10\n",
    "index_to_insert = 2\n",
    "new_arr = np.insert(arr, index_to_insert, new_element)\n",
    "print(new_arr)"
   ]
  },
  {
   "cell_type": "code",
   "execution_count": 3,
   "metadata": {},
   "outputs": [
    {
     "name": "stdout",
     "output_type": "stream",
     "text": [
      "[[1 2]\n",
      " [7 8]\n",
      " [3 4]\n",
      " [5 6]]\n"
     ]
    }
   ],
   "source": [
    "#Thêm phần tử vào vị trí cụ thể trong mảng 2 chiều:\n",
    "arr_2d = np.array([[1, 2], [3, 4], [5, 6]])\n",
    "new_element = [7, 8]\n",
    "row_to_insert = 1\n",
    "new_arr_2d=np.insert(arr_2d,row_to_insert,new_element,axis=0)\n",
    "print(new_arr_2d)"
   ]
  },
  {
   "cell_type": "code",
   "execution_count": 9,
   "metadata": {},
   "outputs": [
    {
     "ename": "TypeError",
     "evalue": "where() got an unexpected keyword argument 'arr'",
     "output_type": "error",
     "traceback": [
      "\u001b[0;31m---------------------------------------------------------------------------\u001b[0m",
      "\u001b[0;31mTypeError\u001b[0m                                 Traceback (most recent call last)",
      "\u001b[1;32m/Users/nguyenxuanty/Documents/chuong3_vidu/3.3.4.ipynb Cell 4\u001b[0m line \u001b[0;36m3\n\u001b[1;32m      <a href='vscode-notebook-cell:/Users/nguyenxuanty/Documents/chuong3_vidu/3.3.4.ipynb#W3sZmlsZQ%3D%3D?line=0'>1</a>\u001b[0m \u001b[39m#Tìm chỉ mục (vị trí) phần tử trong mảng 1 chiều:\u001b[39;00m\n\u001b[1;32m      <a href='vscode-notebook-cell:/Users/nguyenxuanty/Documents/chuong3_vidu/3.3.4.ipynb#W3sZmlsZQ%3D%3D?line=1'>2</a>\u001b[0m arr \u001b[39m=\u001b[39m np\u001b[39m.\u001b[39marray([\u001b[39m1\u001b[39m, \u001b[39m2\u001b[39m, \u001b[39m3\u001b[39m, \u001b[39m4\u001b[39m, \u001b[39m5\u001b[39m])\n\u001b[0;32m----> <a href='vscode-notebook-cell:/Users/nguyenxuanty/Documents/chuong3_vidu/3.3.4.ipynb#W3sZmlsZQ%3D%3D?line=2'>3</a>\u001b[0m imdices \u001b[39m=\u001b[39m np\u001b[39m.\u001b[39;49mwhere(arr\u001b[39m=\u001b[39;49m\u001b[39m3\u001b[39;49m)\n\u001b[1;32m      <a href='vscode-notebook-cell:/Users/nguyenxuanty/Documents/chuong3_vidu/3.3.4.ipynb#W3sZmlsZQ%3D%3D?line=3'>4</a>\u001b[0m indices\n",
      "File \u001b[0;32m<__array_function__ internals>:198\u001b[0m, in \u001b[0;36mwhere\u001b[0;34m(*args, **kwargs)\u001b[0m\n",
      "\u001b[0;31mTypeError\u001b[0m: where() got an unexpected keyword argument 'arr'"
     ]
    }
   ],
   "source": [
    "#Tìm chỉ mục (vị trí) phần tử trong mảng 1 chiều:\n",
    "arr = np.array([1, 2, 3, 4, 5])\n",
    "imdices = np.where(arr=3)\n",
    "indices"
   ]
  },
  {
   "cell_type": "code",
   "execution_count": 6,
   "metadata": {},
   "outputs": [
    {
     "ename": "TypeError",
     "evalue": "argwhere() got an unexpected keyword argument 'arr'",
     "output_type": "error",
     "traceback": [
      "\u001b[0;31m---------------------------------------------------------------------------\u001b[0m",
      "\u001b[0;31mTypeError\u001b[0m                                 Traceback (most recent call last)",
      "\u001b[1;32m/Users/nguyenxuanty/Documents/chuong3_vidu/3.3.4.ipynb Cell 5\u001b[0m line \u001b[0;36m2\n\u001b[1;32m      <a href='vscode-notebook-cell:/Users/nguyenxuanty/Documents/chuong3_vidu/3.3.4.ipynb#W4sZmlsZQ%3D%3D?line=0'>1</a>\u001b[0m arr \u001b[39m=\u001b[39m np\u001b[39m.\u001b[39marray([\u001b[39m1\u001b[39m, \u001b[39m2\u001b[39m, \u001b[39m3\u001b[39m, \u001b[39m4\u001b[39m, \u001b[39m5\u001b[39m])\n\u001b[0;32m----> <a href='vscode-notebook-cell:/Users/nguyenxuanty/Documents/chuong3_vidu/3.3.4.ipynb#W4sZmlsZQ%3D%3D?line=1'>2</a>\u001b[0m imdices \u001b[39m=\u001b[39m np\u001b[39m.\u001b[39;49margwhere(arr\u001b[39m=\u001b[39;49m\u001b[39m3\u001b[39;49m)\n\u001b[1;32m      <a href='vscode-notebook-cell:/Users/nguyenxuanty/Documents/chuong3_vidu/3.3.4.ipynb#W4sZmlsZQ%3D%3D?line=2'>3</a>\u001b[0m indices\n",
      "File \u001b[0;32m<__array_function__ internals>:198\u001b[0m, in \u001b[0;36margwhere\u001b[0;34m(*args, **kwargs)\u001b[0m\n",
      "\u001b[0;31mTypeError\u001b[0m: argwhere() got an unexpected keyword argument 'arr'"
     ]
    }
   ],
   "source": [
    "arr = np.array([1, 2, 3, 4, 5])\n",
    "imdices = np.argwhere(arr=3)\n",
    "indices"
   ]
  },
  {
   "cell_type": "code",
   "execution_count": null,
   "metadata": {},
   "outputs": [],
   "source": [
    "arr = np.array([1, 5, 2, 3, 4])\n",
    "max_idx = np.argmax(arr)\n",
    "min_idx = np.argmin(arr)\n",
    "print(max_idx)\n",
    "print(min_idx)"
   ]
  }
 ],
 "metadata": {
  "kernelspec": {
   "display_name": "Python 3",
   "language": "python",
   "name": "python3"
  },
  "language_info": {
   "codemirror_mode": {
    "name": "ipython",
    "version": 3
   },
   "file_extension": ".py",
   "mimetype": "text/x-python",
   "name": "python",
   "nbconvert_exporter": "python",
   "pygments_lexer": "ipython3",
   "version": "3.10.10"
  }
 },
 "nbformat": 4,
 "nbformat_minor": 2
}
