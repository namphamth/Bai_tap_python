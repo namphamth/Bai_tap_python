{
 "cells": [
  {
   "cell_type": "code",
   "execution_count": 5,
   "metadata": {},
   "outputs": [
    {
     "data": {
      "text/plain": [
       "array([1, 2, 3, 4, 5, 6])"
      ]
     },
     "execution_count": 5,
     "metadata": {},
     "output_type": "execute_result"
    }
   ],
   "source": [
    "import numpy as np\n",
    "x = np.array([1, 2, 3])\n",
    "y = np.array([4, 5, 6])\n",
    "np.concatenate([x,y]) #Kết hợp ma trận x, y"
   ]
  },
  {
   "cell_type": "code",
   "execution_count": 7,
   "metadata": {},
   "outputs": [
    {
     "name": "stdout",
     "output_type": "stream",
     "text": [
      "[[1 2]\n",
      " [3 4]\n",
      " [5 6]\n",
      " [7 8]]\n"
     ]
    }
   ],
   "source": [
    "import numpy as np\n",
    "a = np.array([[1, 2],\n",
    " [3, 4]])\n",
    "b = np.array([[5, 6],\n",
    " [7, 8]])\n",
    "# Kết hợp theo chiều đầu tiên (trục dọc/ trục 0) của mảng\n",
    "c = np.concatenate((a, b))\n",
    "print(c)"
   ]
  },
  {
   "cell_type": "code",
   "execution_count": 8,
   "metadata": {},
   "outputs": [
    {
     "name": "stdout",
     "output_type": "stream",
     "text": [
      "[[1 2 5 6]\n",
      " [3 4 7 8]]\n"
     ]
    }
   ],
   "source": [
    "# Kết hợp theo chiều thứ hai (trục ngang/trục 1) của mảng, trục được đánh chỉ số từ 0.\n",
    "d = np.concatenate([a, b], axis=1)\n",
    "print(d)"
   ]
  },
  {
   "cell_type": "code",
   "execution_count": 12,
   "metadata": {},
   "outputs": [
    {
     "name": "stdout",
     "output_type": "stream",
     "text": [
      "[[1 2]\n",
      " [3 4]\n",
      " [5 6]\n",
      " [7 8]]\n",
      "[[1 2 5 6]\n",
      " [3 4 7 8]]\n"
     ]
    }
   ],
   "source": [
    "import numpy as np\n",
    "a = np.array([[1, 2],\n",
    "              [3,4]])\n",
    "b = np.array([[5, 6],\n",
    "              [7, 8]])\n",
    "# Kết hợp theo chiều đầu tiên (trục dọc/ trục 0) của mảng\n",
    "c = np.vstack((a, b))\n",
    "# Kết hợp theo chiều ngang (trục ngang/ trục 1) của mảng\n",
    "d = np.hstack((a,b))\n",
    "print(c)\n",
    "print(d)"
   ]
  },
  {
   "cell_type": "code",
   "execution_count": 13,
   "metadata": {},
   "outputs": [
    {
     "name": "stdout",
     "output_type": "stream",
     "text": [
      "Mảng con sub_arr1 là: [array([0, 1, 2]), array([3, 4, 5]), array([6, 7, 8, 9])] \n",
      "\n",
      "Mảng con sub_arr2 là: [array([0, 1, 2, 3, 4]), array([5, 6, 7, 8, 9])]\n"
     ]
    }
   ],
   "source": [
    "import numpy as np\n",
    "arr = np.arange(10) #Tạo mảng arr gồm 10 phần tử từ 0-9\n",
    "sub_arr1=np.split(arr,[3, 6]) #chia mảng arr theo chỉ mục [3, 6]\n",
    "#Phần đầu tiên bắt đầu từ chỉ mục 0 và kết thúc trước chỉ mục 3.\n",
    "#Phần thứ hai bắt đầu từ chỉ mục 3 và kết thúc trước chỉ mục 6.\n",
    "sub_arr2=np.split(arr,2) #chia mảng arr thành 2 phần bằng nhau\n",
    "print(\"Mảng con sub_arr1 là:\", sub_arr1, \"\\n\")\n",
    "print(\"Mảng con sub_arr2 là:\", sub_arr2)"
   ]
  },
  {
   "cell_type": "code",
   "execution_count": 14,
   "metadata": {},
   "outputs": [
    {
     "data": {
      "text/plain": [
       "array([[ 0,  1,  2,  3],\n",
       "       [ 4,  5,  6,  7],\n",
       "       [ 8,  9, 10, 11],\n",
       "       [12, 13, 14, 15]])"
      ]
     },
     "execution_count": 14,
     "metadata": {},
     "output_type": "execute_result"
    }
   ],
   "source": [
    "import numpy as np\n",
    "arr = np.arange(16).reshape((4,4))\n",
    "arr"
   ]
  },
  {
   "cell_type": "code",
   "execution_count": 15,
   "metadata": {},
   "outputs": [
    {
     "name": "stdout",
     "output_type": "stream",
     "text": [
      "Kết quả sau khi tách từ mảng ban đầu \n",
      "\n",
      "[[0 1 2 3]\n",
      " [4 5 6 7]] \n",
      "\n",
      "[[ 8  9 10 11]\n",
      " [12 13 14 15]] \n",
      "\n"
     ]
    }
   ],
   "source": [
    "upper,lower = np.vsplit(arr,2) #Tách theo trục ngang\n",
    "print(\"Kết quả sau khi tách từ mảng ban đầu \\n\")\n",
    "print(upper,\"\\n\")\n",
    "print(lower,\"\\n\")"
   ]
  },
  {
   "cell_type": "code",
   "execution_count": 16,
   "metadata": {},
   "outputs": [
    {
     "name": "stdout",
     "output_type": "stream",
     "text": [
      "Kết quả sau khi tách từ mảng ban đầu \n",
      "\n",
      "[[ 0  1]\n",
      " [ 4  5]\n",
      " [ 8  9]\n",
      " [12 13]] \n",
      "\n",
      "[[ 2  3]\n",
      " [ 6  7]\n",
      " [10 11]\n",
      " [14 15]] \n",
      "\n"
     ]
    }
   ],
   "source": [
    "left,right=np.hsplit(arr,2) #Tách theo trục dọc\n",
    "print(\"Kết quả sau khi tách từ mảng ban đầu \\n\")\n",
    "print(left,\"\\n\")\n",
    "print(right,\"\\n\")"
   ]
  }
 ],
 "metadata": {
  "kernelspec": {
   "display_name": "Python 3",
   "language": "python",
   "name": "python3"
  },
  "language_info": {
   "codemirror_mode": {
    "name": "ipython",
    "version": 3
   },
   "file_extension": ".py",
   "mimetype": "text/x-python",
   "name": "python",
   "nbconvert_exporter": "python",
   "pygments_lexer": "ipython3",
   "version": "3.10.10"
  }
 },
 "nbformat": 4,
 "nbformat_minor": 2
}
