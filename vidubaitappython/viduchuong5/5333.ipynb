{
 "cells": [
  {
   "cell_type": "code",
   "execution_count": 4,
   "metadata": {},
   "outputs": [],
   "source": [
    "import sqlite3\n",
    "import matplotlib.pyplot as plt\n",
    "# Kết nối đến cơ sở dữ liệu\n",
    "conn = sqlite3.connect('ct_giadinh.db')\n",
    "cursor = conn.cursor()\n",
    "# Truy vấn dữ liệu từ bảng 'khoan_chi'\n",
    "cursor.execute(\"SELECT * FROM khoan_chi\")\n",
    "rows = cursor.fetchall()\n",
    "# Lấy thông tin về các tên cột\n",
    "column_names = [description[0] for description in\n",
    "cursor.description][1:]\n",
    "# Tách dữ liệu thành hai danh sách riêng biệt cho loại chi tiêu và tổng số tiền\n",
    "loai_chi = column_names\n",
    "tien_chi = rows[0][1:]\n",
    "# Đóng kết nối\n",
    "conn.close()"
   ]
  }
 ],
 "metadata": {
  "kernelspec": {
   "display_name": "Python 3",
   "language": "python",
   "name": "python3"
  },
  "language_info": {
   "codemirror_mode": {
    "name": "ipython",
    "version": 3
   },
   "file_extension": ".py",
   "mimetype": "text/x-python",
   "name": "python",
   "nbconvert_exporter": "python",
   "pygments_lexer": "ipython3",
   "version": "3.10.10"
  }
 },
 "nbformat": 4,
 "nbformat_minor": 2
}
