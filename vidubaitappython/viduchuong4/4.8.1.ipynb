{
 "cells": [
  {
   "cell_type": "code",
   "execution_count": 5,
   "metadata": {},
   "outputs": [
    {
     "name": "stdout",
     "output_type": "stream",
     "text": [
      "       Unnamed: 0        2019 (*)                       Unnamed: 2  \\\n",
      "0             NaN  Diện tích(Km2)  Dân số trung bình (Nghìn người)   \n",
      "1          Hà Nội        3.358.60                         8.093.90   \n",
      "2      Quảng Ninh        6.178.20                         1.324.80   \n",
      "3        Nam Định        1.668.60                         1.780.90   \n",
      "4          Sơn La       14.123.50                         1.252.70   \n",
      "5       Thanh Hoá       11.114.60                         3.645.80   \n",
      "6         Nghệ An       16.481.40                         3.337.20   \n",
      "7         Đà Nẵng        1.284.90                         1.141.10   \n",
      "8        Đồng Nai        5.863.60                         3.113.70   \n",
      "9  TP.Hồ Chí Minh        2.061.40                         9.038.60   \n",
      "\n",
      "         2020 (*)                       Unnamed: 4        2021 (*)  \\\n",
      "0  Diện tích(Km2)  Dân số trung bình (Nghìn người)  Diện tích(Km2)   \n",
      "1        3.358.60                         8.246.54        3.359.82   \n",
      "2        6.178.21                         1.337.61        6.207.79   \n",
      "3        1.668.57                         1.780.33        1.668.83   \n",
      "4       14.123.49                         1.270.56       14.109.83   \n",
      "5       11.114.65                         3.664.94       11.114.71   \n",
      "6       16.481.41                         3.365.20       16.486.50   \n",
      "7        1.284.88                         1.169.48        1.284.73   \n",
      "8        5.863.60                         3.177.40        5.863.62   \n",
      "9        2.061.41                         9.227.60        2.095.39   \n",
      "\n",
      "                        Unnamed: 6  \n",
      "0  Dân số trung bình (Nghìn người)  \n",
      "1                         8.330.83  \n",
      "2                         1.350.85  \n",
      "3                         1.836.27  \n",
      "4                         1.287.72  \n",
      "5                         3.716.43  \n",
      "6                         3.409.81  \n",
      "7                         1.195.49  \n",
      "8                         3.169.10  \n",
      "9                         9.166.84  \n"
     ]
    }
   ],
   "source": [
    "import numpy as np\n",
    "import pandas as pd\n",
    "\n",
    "\n",
    "datavn_raw=pd.read_excel('./data19_21.xlsx')\n",
    "print(datavn_raw)"
   ]
  },
  {
   "cell_type": "code",
   "execution_count": 6,
   "metadata": {},
   "outputs": [
    {
     "ename": "KeyError",
     "evalue": "\"None of [Index(['Unnamed:0', '2019(*)', '2020(*)', '2021(*)', 'Unnamed:2', 'Unnamed:4',\\n       'Unnamed:6'],\\n      dtype='object')] are in the [columns]\"",
     "output_type": "error",
     "traceback": [
      "\u001b[0;31m---------------------------------------------------------------------------\u001b[0m",
      "\u001b[0;31mKeyError\u001b[0m                                  Traceback (most recent call last)",
      "\u001b[1;32m/Users/nguyenxuanty/Documents/viduchuong4/4.8.1.ipynb Cell 2\u001b[0m line \u001b[0;36m1\n\u001b[0;32m----> <a href='vscode-notebook-cell:/Users/nguyenxuanty/Documents/viduchuong4/4.8.1.ipynb#W1sZmlsZQ%3D%3D?line=0'>1</a>\u001b[0m datavn \u001b[39m=\u001b[39m datavn_raw[[\u001b[39m'\u001b[39;49m\u001b[39mUnnamed:0\u001b[39;49m\u001b[39m'\u001b[39;49m,\u001b[39m'\u001b[39;49m\u001b[39m2019(*)\u001b[39;49m\u001b[39m'\u001b[39;49m,\u001b[39m'\u001b[39;49m\u001b[39m2020(*)\u001b[39;49m\u001b[39m'\u001b[39;49m,\u001b[39m'\u001b[39;49m\u001b[39m2021(*)\u001b[39;49m\u001b[39m'\u001b[39;49m,\n\u001b[1;32m      <a href='vscode-notebook-cell:/Users/nguyenxuanty/Documents/viduchuong4/4.8.1.ipynb#W1sZmlsZQ%3D%3D?line=1'>2</a>\u001b[0m                      \u001b[39m'\u001b[39;49m\u001b[39mUnnamed:2\u001b[39;49m\u001b[39m'\u001b[39;49m,\u001b[39m'\u001b[39;49m\u001b[39mUnnamed:4\u001b[39;49m\u001b[39m'\u001b[39;49m,\u001b[39m'\u001b[39;49m\u001b[39mUnnamed:6\u001b[39;49m\u001b[39m'\u001b[39;49m]]\n\u001b[1;32m      <a href='vscode-notebook-cell:/Users/nguyenxuanty/Documents/viduchuong4/4.8.1.ipynb#W1sZmlsZQ%3D%3D?line=2'>3</a>\u001b[0m datavn\n",
      "File \u001b[0;32m/opt/homebrew/lib/python3.10/site-packages/pandas/core/frame.py:3899\u001b[0m, in \u001b[0;36mDataFrame.__getitem__\u001b[0;34m(self, key)\u001b[0m\n\u001b[1;32m   3897\u001b[0m     \u001b[39mif\u001b[39;00m is_iterator(key):\n\u001b[1;32m   3898\u001b[0m         key \u001b[39m=\u001b[39m \u001b[39mlist\u001b[39m(key)\n\u001b[0;32m-> 3899\u001b[0m     indexer \u001b[39m=\u001b[39m \u001b[39mself\u001b[39;49m\u001b[39m.\u001b[39;49mcolumns\u001b[39m.\u001b[39;49m_get_indexer_strict(key, \u001b[39m\"\u001b[39;49m\u001b[39mcolumns\u001b[39;49m\u001b[39m\"\u001b[39;49m)[\u001b[39m1\u001b[39m]\n\u001b[1;32m   3901\u001b[0m \u001b[39m# take() does not accept boolean indexers\u001b[39;00m\n\u001b[1;32m   3902\u001b[0m \u001b[39mif\u001b[39;00m \u001b[39mgetattr\u001b[39m(indexer, \u001b[39m\"\u001b[39m\u001b[39mdtype\u001b[39m\u001b[39m\"\u001b[39m, \u001b[39mNone\u001b[39;00m) \u001b[39m==\u001b[39m \u001b[39mbool\u001b[39m:\n",
      "File \u001b[0;32m/opt/homebrew/lib/python3.10/site-packages/pandas/core/indexes/base.py:6114\u001b[0m, in \u001b[0;36mIndex._get_indexer_strict\u001b[0;34m(self, key, axis_name)\u001b[0m\n\u001b[1;32m   6111\u001b[0m \u001b[39melse\u001b[39;00m:\n\u001b[1;32m   6112\u001b[0m     keyarr, indexer, new_indexer \u001b[39m=\u001b[39m \u001b[39mself\u001b[39m\u001b[39m.\u001b[39m_reindex_non_unique(keyarr)\n\u001b[0;32m-> 6114\u001b[0m \u001b[39mself\u001b[39;49m\u001b[39m.\u001b[39;49m_raise_if_missing(keyarr, indexer, axis_name)\n\u001b[1;32m   6116\u001b[0m keyarr \u001b[39m=\u001b[39m \u001b[39mself\u001b[39m\u001b[39m.\u001b[39mtake(indexer)\n\u001b[1;32m   6117\u001b[0m \u001b[39mif\u001b[39;00m \u001b[39misinstance\u001b[39m(key, Index):\n\u001b[1;32m   6118\u001b[0m     \u001b[39m# GH 42790 - Preserve name from an Index\u001b[39;00m\n",
      "File \u001b[0;32m/opt/homebrew/lib/python3.10/site-packages/pandas/core/indexes/base.py:6175\u001b[0m, in \u001b[0;36mIndex._raise_if_missing\u001b[0;34m(self, key, indexer, axis_name)\u001b[0m\n\u001b[1;32m   6173\u001b[0m     \u001b[39mif\u001b[39;00m use_interval_msg:\n\u001b[1;32m   6174\u001b[0m         key \u001b[39m=\u001b[39m \u001b[39mlist\u001b[39m(key)\n\u001b[0;32m-> 6175\u001b[0m     \u001b[39mraise\u001b[39;00m \u001b[39mKeyError\u001b[39;00m(\u001b[39mf\u001b[39m\u001b[39m\"\u001b[39m\u001b[39mNone of [\u001b[39m\u001b[39m{\u001b[39;00mkey\u001b[39m}\u001b[39;00m\u001b[39m] are in the [\u001b[39m\u001b[39m{\u001b[39;00maxis_name\u001b[39m}\u001b[39;00m\u001b[39m]\u001b[39m\u001b[39m\"\u001b[39m)\n\u001b[1;32m   6177\u001b[0m not_found \u001b[39m=\u001b[39m \u001b[39mlist\u001b[39m(ensure_index(key)[missing_mask\u001b[39m.\u001b[39mnonzero()[\u001b[39m0\u001b[39m]]\u001b[39m.\u001b[39munique())\n\u001b[1;32m   6178\u001b[0m \u001b[39mraise\u001b[39;00m \u001b[39mKeyError\u001b[39;00m(\u001b[39mf\u001b[39m\u001b[39m\"\u001b[39m\u001b[39m{\u001b[39;00mnot_found\u001b[39m}\u001b[39;00m\u001b[39m not in index\u001b[39m\u001b[39m\"\u001b[39m)\n",
      "\u001b[0;31mKeyError\u001b[0m: \"None of [Index(['Unnamed:0', '2019(*)', '2020(*)', '2021(*)', 'Unnamed:2', 'Unnamed:4',\\n       'Unnamed:6'],\\n      dtype='object')] are in the [columns]\""
     ]
    }
   ],
   "source": [
    "datavn = datavn_raw[['Unnamed:0','2019(*)','2020(*)','2021(*)',\n",
    "                     'Unnamed:2','Unnamed:4','Unnamed:6']]\n",
    "datavn"
   ]
  },
  {
   "cell_type": "code",
   "execution_count": 7,
   "metadata": {},
   "outputs": [
    {
     "ename": "ModuleNotFoundError",
     "evalue": "No module named 'seaborn'",
     "output_type": "error",
     "traceback": [
      "\u001b[0;31m---------------------------------------------------------------------------\u001b[0m",
      "\u001b[0;31mModuleNotFoundError\u001b[0m                       Traceback (most recent call last)",
      "\u001b[1;32m/Users/nguyenxuanty/Documents/viduchuong4/4.8.1.ipynb Cell 3\u001b[0m line \u001b[0;36m1\n\u001b[0;32m----> <a href='vscode-notebook-cell:/Users/nguyenxuanty/Documents/viduchuong4/4.8.1.ipynb#W2sZmlsZQ%3D%3D?line=0'>1</a>\u001b[0m \u001b[39mimport\u001b[39;00m \u001b[39mseaborn\u001b[39;00m \u001b[39mas\u001b[39;00m \u001b[39msns\u001b[39;00m\n",
      "\u001b[0;31mModuleNotFoundError\u001b[0m: No module named 'seaborn'"
     ]
    }
   ],
   "source": [
    "import seaborn as sns"
   ]
  }
 ],
 "metadata": {
  "kernelspec": {
   "display_name": "Python 3",
   "language": "python",
   "name": "python3"
  },
  "language_info": {
   "codemirror_mode": {
    "name": "ipython",
    "version": 3
   },
   "file_extension": ".py",
   "mimetype": "text/x-python",
   "name": "python",
   "nbconvert_exporter": "python",
   "pygments_lexer": "ipython3",
   "version": "3.10.10"
  }
 },
 "nbformat": 4,
 "nbformat_minor": 2
}
