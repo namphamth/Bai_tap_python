{
 "cells": [
  {
   "cell_type": "code",
   "execution_count": 2,
   "metadata": {},
   "outputs": [
    {
     "data": {
      "text/plain": [
       "(Hà Nội, 2015)         7216000\n",
       "(Hà Nội, 2020)         8246540\n",
       "(Nam Định, 2015)       1850600\n",
       "(Nam Định, 2020)       1780330\n",
       "(Thanh Hóa, 2015)      3514200\n",
       "(Thanh Hóa, 2020)      3664940\n",
       "(Đà Nẵng, 2015)        1028800\n",
       "(Đà Nẵng, 2020)        1169480\n",
       "(Hồ Chí Minh, 2015)    8146300\n",
       "(Hồ Chí Minh, 2020)    9227600\n",
       "dtype: int64"
      ]
     },
     "execution_count": 2,
     "metadata": {},
     "output_type": "execute_result"
    }
   ],
   "source": [
    "import pandas as pd\n",
    "#Tuples đại diện cho tỉnh thành phố - Năm tương ứng\n",
    "index=[ ('Hà Nội',2015),('Hà Nội',2020),\n",
    "        ('Nam Định',2015),('Nam Định',2020),\n",
    "        ('Thanh Hóa',2015),('Thanh Hóa',2020),\n",
    "        ('Đà Nẵng',2015),('Đà Nẵng',2020),\n",
    "        ('Hồ Chí Minh',2015),('Hồ Chí Minh',2020)]\n",
    "data=[  7216000, 8246540,\n",
    "        1850600, 1780330,\n",
    "        3514200, 3664940,\n",
    "        1028800, 1169480,\n",
    "        8146300, 9227600]\n",
    "vn_pop = pd.Series(data, index=index)\n",
    "vn_pop "
   ]
  },
  {
   "cell_type": "markdown",
   "metadata": {},
   "source": [
    "chuyển 1 seriea thành series đa cấp\n"
   ]
  },
  {
   "cell_type": "code",
   "execution_count": 8,
   "metadata": {},
   "outputs": [
    {
     "data": {
      "text/plain": [
       "Tỉnh/TP      Năm \n",
       "Hà Nội       2015    7216000\n",
       "             2020    8246540\n",
       "Nam Định     2015    1850600\n",
       "             2020    1780330\n",
       "Thanh Hóa    2015    3514200\n",
       "             2020    3664940\n",
       "Đà Nẵng      2015    1028800\n",
       "             2020    1169480\n",
       "Hồ Chí Minh  2015    8146300\n",
       "             2020    9227600\n",
       "dtype: int64"
      ]
     },
     "execution_count": 8,
     "metadata": {},
     "output_type": "execute_result"
    }
   ],
   "source": [
    "# tạo multiindex từ tuples\n",
    "idx==pd.MultiIndex.from_tuples(vn_pop.index,names=['Tỉnh/Thành phố','Năm'])\n",
    "#reindex lại series vn_pop ở trên bằng multiindex mới\n",
    "\n",
    "vn_pop=vn_pop.reindex(idx)\n",
    "vn_pop"
   ]
  },
  {
   "cell_type": "code",
   "execution_count": 3,
   "metadata": {},
   "outputs": [
    {
     "data": {
      "text/plain": [
       "MultiIndex([(     'Hà Nội', 2015),\n",
       "            (     'Hà Nội', 2020),\n",
       "            (   'Nam Định', 2015),\n",
       "            (   'Nam Định', 2020),\n",
       "            (  'Thanh Hóa', 2015),\n",
       "            (  'Thanh Hóa', 2020),\n",
       "            (    'Đà Nẵng', 2015),\n",
       "            (    'Đà Nẵng', 2020),\n",
       "            ('Hồ Chí Minh', 2015),\n",
       "            ('Hồ Chí Minh', 2020)],\n",
       "           names=['Tỉnh/TP', 'Năm'])"
      ]
     },
     "execution_count": 3,
     "metadata": {},
     "output_type": "execute_result"
    }
   ],
   "source": [
    "idx=pd.MultiIndex.from_tuples(index,\n",
    "names=['Tỉnh/TP','Năm'])\n",
    "idx"
   ]
  },
  {
   "cell_type": "code",
   "execution_count": 4,
   "metadata": {},
   "outputs": [
    {
     "data": {
      "text/plain": [
       "(Hà Nội, 2015)         7216000\n",
       "(Hà Nội, 2020)         8246540\n",
       "(Nam Định, 2015)       1850600\n",
       "(Nam Định, 2020)       1780330\n",
       "(Thanh Hóa, 2015)      3514200\n",
       "(Thanh Hóa, 2020)      3664940\n",
       "(Đà Nẵng, 2015)        1028800\n",
       "(Đà Nẵng, 2020)        1169480\n",
       "(Hồ Chí Minh, 2015)    8146300\n",
       "(Hồ Chí Minh, 2020)    9227600\n",
       "dtype: int64"
      ]
     },
     "execution_count": 4,
     "metadata": {},
     "output_type": "execute_result"
    }
   ],
   "source": [
    "vn_pop\n"
   ]
  },
  {
   "cell_type": "code",
   "execution_count": 5,
   "metadata": {},
   "outputs": [
    {
     "name": "stdout",
     "output_type": "stream",
     "text": [
      "Dân số TP Hồ Chí Minh năm 2015 là: 8146300\n"
     ]
    }
   ],
   "source": [
    "print('Dân số TP Hồ Chí Minh năm 2015 là:',vn_pop['Hồ Chí Minh',2015])"
   ]
  },
  {
   "cell_type": "code",
   "execution_count": 9,
   "metadata": {},
   "outputs": [
    {
     "name": "stdout",
     "output_type": "stream",
     "text": [
      "Dân số tỉnh Nam Định trong các năm 2015, 2020 là:\n",
      " Năm\n",
      "2015    1850600\n",
      "2020    1780330\n",
      "dtype: int64\n"
     ]
    }
   ],
   "source": [
    "\n",
    "print(\"Dân số tỉnh Nam Định trong các năm 2015, 2020 là:\\n\",vn_pop['Nam Định'])\n"
   ]
  },
  {
   "cell_type": "code",
   "execution_count": null,
   "metadata": {},
   "outputs": [],
   "source": [
    "#Sử dụng mask\n",
    "print(\"Tỉnh/Thành phố có dân số lớn hơn 5 triệu: \\n\",vn_pop[vn_pop >5000000]) #Sử dụng Fancy Indexing\n",
    "print(\"Dân số Hà Nội và Đà Nẵng: \\n\", vn_pop[['Hà Nội', 'Đà Nẵng']]) "
   ]
  },
  {
   "cell_type": "code",
   "execution_count": null,
   "metadata": {},
   "outputs": [],
   "source": []
  }
 ],
 "metadata": {
  "kernelspec": {
   "display_name": "Python 3",
   "language": "python",
   "name": "python3"
  },
  "language_info": {
   "codemirror_mode": {
    "name": "ipython",
    "version": 3
   },
   "file_extension": ".py",
   "mimetype": "text/x-python",
   "name": "python",
   "nbconvert_exporter": "python",
   "pygments_lexer": "ipython3",
   "version": "3.10.10"
  }
 },
 "nbformat": 4,
 "nbformat_minor": 2
}
