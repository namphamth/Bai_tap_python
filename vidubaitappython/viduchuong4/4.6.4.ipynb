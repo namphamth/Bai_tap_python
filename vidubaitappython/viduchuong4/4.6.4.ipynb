{
 "cells": [
  {
   "cell_type": "code",
   "execution_count": 11,
   "metadata": {},
   "outputs": [
    {
     "data": {
      "text/plain": [
       "(Hà Nội, 2015)         7216000\n",
       "(Hà Nội, 2020)         8246540\n",
       "(Nam Định, 2015)       1850600\n",
       "(Nam Định, 2020)       1780330\n",
       "(Thanh Hóa, 2015)      3514200\n",
       "(Thanh Hóa, 2020)      3664940\n",
       "(Đà Nẵng, 2015)        1028800\n",
       "(Đà Nẵng, 2020)        1169480\n",
       "(Hồ Chí Minh, 2015)    8146300\n",
       "(Hồ Chí Minh, 2020)    9227600\n",
       "dtype: int64"
      ]
     },
     "execution_count": 11,
     "metadata": {},
     "output_type": "execute_result"
    }
   ],
   "source": [
    "import pandas as pd\n",
    "#Tuples đại diện cho tỉnh thành phố - Năm tương ứng\n",
    "index=[ ('Hà Nội',2015),('Hà Nội',2020),\n",
    "        ('Nam Định',2015),('Nam Định',2020),\n",
    "        ('Thanh Hóa',2015),('Thanh Hóa',2020),\n",
    "        ('Đà Nẵng',2015),('Đà Nẵng',2020),\n",
    "        ('Hồ Chí Minh',2015),('Hồ Chí Minh',2020)]\n",
    "data=[  7216000, 8246540,\n",
    "        1850600, 1780330,\n",
    "        3514200, 3664940,\n",
    "        1028800, 1169480,\n",
    "        8146300, 9227600]\n",
    "vn_pop = pd.Series(data, index=index)\n",
    "vn_pop"
   ]
  },
  {
   "cell_type": "code",
   "execution_count": 12,
   "metadata": {},
   "outputs": [],
   "source": [
    "idx=pd.MultiIndex.from_tuples(index,\n",
    "names=['Tỉnh/TP','Năm'])\n",
    "vn_pop = vn_pop.reindex(idx)  "
   ]
  },
  {
   "cell_type": "code",
   "execution_count": 13,
   "metadata": {},
   "outputs": [
    {
     "name": "stdout",
     "output_type": "stream",
     "text": [
      "<class 'pandas.core.series.Series'>\n",
      "Unstack level 0: \n",
      " Tỉnh/TP   Hà Nội  Hồ Chí Minh  Nam Định  Thanh Hóa  Đà Nẵng\n",
      "Năm                                                        \n",
      "2015     7216000      8146300   1850600    3514200  1028800\n",
      "2020     8246540      9227600   1780330    3664940  1169480\n",
      "<class 'pandas.core.frame.DataFrame'>\n"
     ]
    }
   ],
   "source": [
    "print(type(vn_pop))\n",
    "vn_pop_df=vn_pop.unstack(level=0)\n",
    "\n",
    "print(\"Unstack level 0: \\n\", vn_pop_df)\n",
    "\n",
    "print(type(vn_pop_df)) \n"
   ]
  },
  {
   "cell_type": "code",
   "execution_count": 14,
   "metadata": {},
   "outputs": [
    {
     "name": "stdout",
     "output_type": "stream",
     "text": [
      "\n",
      "Unstack level 1: \n",
      " Năm             2015     2020\n",
      "Tỉnh/TP                      \n",
      "Hà Nội       7216000  8246540\n",
      "Hồ Chí Minh  8146300  9227600\n",
      "Nam Định     1850600  1780330\n",
      "Thanh Hóa    3514200  3664940\n",
      "Đà Nẵng      1028800  1169480\n"
     ]
    }
   ],
   "source": [
    "print(\"\\nUnstack level 1: \\n\", vn_pop.unstack(level=1))"
   ]
  },
  {
   "cell_type": "code",
   "execution_count": 8,
   "metadata": {},
   "outputs": [
    {
     "name": "stdout",
     "output_type": "stream",
     "text": [
      "vn_pop: \n",
      " Tỉnh/TP      Năm \n",
      "Hà Nội       2015    7216000\n",
      "             2020    8246540\n",
      "Nam Định     2015    1850600\n",
      "             2020    1780330\n",
      "Thanh Hóa    2015    3514200\n",
      "             2020    3664940\n",
      "Đà Nẵng      2015    1028800\n",
      "             2020    1169480\n",
      "Hồ Chí Minh  2015    8146300\n",
      "             2020    9227600\n",
      "dtype: int64\n",
      "\n",
      " vn_pop unstack => stack: \n",
      " Tỉnh/TP      Năm \n",
      "Hà Nội       2015    7216000\n",
      "             2020    8246540\n",
      "Hồ Chí Minh  2015    8146300\n",
      "             2020    9227600\n",
      "Nam Định     2015    1850600\n",
      "             2020    1780330\n",
      "Thanh Hóa    2015    3514200\n",
      "             2020    3664940\n",
      "Đà Nẵng      2015    1028800\n",
      "             2020    1169480\n",
      "dtype: int64\n"
     ]
    }
   ],
   "source": [
    "print(\"vn_pop: \\n\", vn_pop)\n",
    "\n",
    "print(\"\\n vn_pop unstack => stack: \\n\",vn_pop.unstack(level=1).stack())"
   ]
  },
  {
   "cell_type": "code",
   "execution_count": 9,
   "metadata": {},
   "outputs": [
    {
     "name": "stdout",
     "output_type": "stream",
     "text": [
      "vn_pop_df DataFrame :\n",
      " Tỉnh/TP   Hà Nội  Hồ Chí Minh  Nam Định  Thanh Hóa  Đà Nẵng\n",
      "Năm                                                        \n",
      "2015     7216000      8146300   1850600    3514200  1028800\n",
      "2020     8246540      9227600   1780330    3664940  1169480\n",
      "\n",
      "vn_pop_df sau khi reset index :\n",
      " Tỉnh/TP   Năm   Hà Nội  Hồ Chí Minh  Nam Định  Thanh Hóa  Đà Nẵng\n",
      "0        2015  7216000      8146300   1850600    3514200  1028800\n",
      "1        2020  8246540      9227600   1780330    3664940  1169480\n"
     ]
    }
   ],
   "source": [
    "print(\"vn_pop_df DataFrame :\\n\", vn_pop_df)\n",
    "print(\"\\nvn_pop_df sau khi reset index :\\n\",vn_pop_df.reset_index())"
   ]
  },
  {
   "cell_type": "code",
   "execution_count": 10,
   "metadata": {},
   "outputs": [
    {
     "name": "stdout",
     "output_type": "stream",
     "text": [
      "vn_pop_df DataFrame :\n",
      " Tỉnh/TP   Hà Nội  Hồ Chí Minh  Nam Định  Thanh Hóa  Đà Nẵng\n",
      "Năm                                                        \n",
      "2015     7216000      8146300   1850600    3514200  1028800\n",
      "2020     8246540      9227600   1780330    3664940  1169480\n",
      "\n",
      "vn_pop_df sau khi reset index :\n",
      " Tỉnh/TP   Năm   Hà Nội  Hồ Chí Minh  Nam Định  Thanh Hóa  Đà Nẵng\n",
      "0        2015  7216000      8146300   1850600    3514200  1028800\n",
      "1        2020  8246540      9227600   1780330    3664940  1169480\n"
     ]
    }
   ],
   "source": [
    "print(\"vn_pop_df DataFrame :\\n\", vn_pop_df)\n",
    "print(\"\\nvn_pop_df sau khi reset index :\\n\",vn_pop_df.reset_index())"
   ]
  },
  {
   "cell_type": "markdown",
   "metadata": {},
   "source": [
    "ví dụ 4.6.5\n",
    "tính điểm tb của từng học sinh"
   ]
  },
  {
   "cell_type": "code",
   "execution_count": 15,
   "metadata": {},
   "outputs": [
    {
     "ename": "NameError",
     "evalue": "name 'score' is not defined",
     "output_type": "error",
     "traceback": [
      "\u001b[0;31m---------------------------------------------------------------------------\u001b[0m",
      "\u001b[0;31mNameError\u001b[0m                                 Traceback (most recent call last)",
      "\u001b[1;32m/Users/nguyenxuanty/Documents/viduchuong4/4.6.4.ipynb Cell 9\u001b[0m line \u001b[0;36m1\n\u001b[0;32m----> <a href='vscode-notebook-cell:/Users/nguyenxuanty/Documents/viduchuong4/4.6.4.ipynb#W6sZmlsZQ%3D%3D?line=0'>1</a>\u001b[0m score\u001b[39m.\u001b[39mmean(level\u001b[39m=\u001b[39m\u001b[39m'\u001b[39m\u001b[39mNăm\u001b[39m\u001b[39m'\u001b[39m)\n",
      "\u001b[0;31mNameError\u001b[0m: name 'score' is not defined"
     ]
    }
   ],
   "source": [
    "score.mean(level='Năm')"
   ]
  },
  {
   "cell_type": "code",
   "execution_count": null,
   "metadata": {},
   "outputs": [],
   "source": []
  }
 ],
 "metadata": {
  "kernelspec": {
   "display_name": "Python 3",
   "language": "python",
   "name": "python3"
  },
  "language_info": {
   "codemirror_mode": {
    "name": "ipython",
    "version": 3
   },
   "file_extension": ".py",
   "mimetype": "text/x-python",
   "name": "python",
   "nbconvert_exporter": "python",
   "pygments_lexer": "ipython3",
   "version": "3.10.10"
  }
 },
 "nbformat": 4,
 "nbformat_minor": 2
}
