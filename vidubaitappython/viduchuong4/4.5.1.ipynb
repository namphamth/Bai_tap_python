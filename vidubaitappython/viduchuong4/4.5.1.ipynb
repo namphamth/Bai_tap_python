{
 "cells": [
  {
   "cell_type": "code",
   "execution_count": 3,
   "metadata": {},
   "outputs": [
    {
     "name": "stdout",
     "output_type": "stream",
     "text": [
      "DataFrame:\n",
      "    A  B  C  D\n",
      "0  7  0  4  2\n",
      "1  5  2  2  2\n",
      "2  1  0  8  4\n"
     ]
    }
   ],
   "source": [
    "import pandas as pd\n",
    "import numpy as np\n",
    "rng=np.random.RandomState(100) #Tạo một mảng NumPy ngẫu nhiên cố định\n",
    "arr1=rng.randint(0,10,4) #mảng NumPy 1 chiều 4 số ngẫu nhiên từ 0->10 \n",
    "arr2=rng.randint(0,10,(3,4)) #mảng 2 chiều 3x4 các số ngẫu nhiên từ 0->10, k lấy 10\n",
    "sr=pd.Series(arr1) #Tạo một Series Pandax từ mảng Numpy arr1 \n",
    "df=pd.DataFrame(arr2,columns=['A','B','C','D']) #Tạo DataFrame từ arr2print(\"Series:\\n\",sr)\n",
    "print(\"DataFrame:\\n\",df)"
   ]
  },
  {
   "cell_type": "code",
   "execution_count": 5,
   "metadata": {},
   "outputs": [
    {
     "name": "stdout",
     "output_type": "stream",
     "text": [
      "Top 5 tỉnh/tp đông dân nhất Việt Nam 2023:\n",
      " TP.Hồ Chí Minh    9411805\n",
      "Hà Nội            8330830\n",
      "Thanh Hóa         3720000\n",
      "Nghệ An           3410000\n",
      "Đồng Nai          3097107\n",
      "dtype: int64\n",
      "Top 5 tỉnh/tp diện tích lớn nhất Việt Nam 2023:\n",
      " Nghệ An      16493.0\n",
      "Gia Lai      15536.9\n",
      "Sơn La       14174.4\n",
      "Đăk Lăk      13030.5\n",
      "Thanh Hóa    11132.2\n",
      "dtype: float64\n"
     ]
    }
   ],
   "source": [
    "#Ví dụ 4.5.1.2 #Số liệu top 5 dân số tỉnh thành Việt Nam\n",
    "population = pd.Series({'TP.Hồ Chí Minh':9411805,  \n",
    "                        'Hà Nội':8330830,\n",
    "                        'Thanh Hóa':3720000,\n",
    "                        'Nghệ An':3410000,\n",
    "                        'Đồng Nai':3097107})\n",
    "#Số liệu về top 5 diện tích tỉnh/thành Việt Nam\n",
    "area=pd.Series({'Nghệ An':16493,\n",
    "                'Gia Lai':15536.9,\n",
    "                'Sơn La':14174.4,\n",
    "                'Đăk Lăk':13030.5,\n",
    "                'Thanh Hóa':11132.2})\n",
    "print(\"Top 5 tỉnh/tp đông dân nhất Việt Nam 2023:\\n\",population) \n",
    "print(\"Top 5 tỉnh/tp diện tích lớn nhất Việt Nam 2023:\\n\",area) "
   ]
  },
  {
   "cell_type": "code",
   "execution_count": 7,
   "metadata": {},
   "outputs": [
    {
     "name": "stdout",
     "output_type": "stream",
     "text": [
      "Mật độ dân số tỉnh/thành :\n",
      " Gia Lai                NaN\n",
      "Hà Nội                 NaN\n",
      "Nghệ An           0.004837\n",
      "Sơn La                 NaN\n",
      "TP.Hồ Chí Minh         NaN\n",
      "Thanh Hóa         0.002993\n",
      "Đăk Lăk                NaN\n",
      "Đồng Nai               NaN\n",
      "dtype: float64\n"
     ]
    }
   ],
   "source": [
    "density = area/population\n",
    "print(\"Mật độ dân số tỉnh/thành :\\n\", density) "
   ]
  },
  {
   "cell_type": "code",
   "execution_count": 8,
   "metadata": {},
   "outputs": [
    {
     "data": {
      "text/plain": [
       "0    NaN\n",
       "1    5.0\n",
       "2    9.0\n",
       "3    NaN\n",
       "dtype: float64"
      ]
     },
     "execution_count": 8,
     "metadata": {},
     "output_type": "execute_result"
    }
   ],
   "source": [
    "#Tạo 2 Series A, B và tính tổng các giá trị\n",
    "A=pd.Series([1,3,5],index=[0,1,2])\n",
    "B=pd.Series([2,4,6],index=[1,2,3])\n",
    "A+B"
   ]
  },
  {
   "cell_type": "code",
   "execution_count": 9,
   "metadata": {},
   "outputs": [
    {
     "data": {
      "text/plain": [
       "0    1.0\n",
       "1    5.0\n",
       "2    9.0\n",
       "3    6.0\n",
       "dtype: float64"
      ]
     },
     "execution_count": 9,
     "metadata": {},
     "output_type": "execute_result"
    }
   ],
   "source": [
    "#Sử dụng ufuncs, truyền tham số fill_value vào.\n",
    "A.add(B,fill_value=0) "
   ]
  },
  {
   "cell_type": "code",
   "execution_count": 15,
   "metadata": {},
   "outputs": [
    {
     "name": "stdout",
     "output_type": "stream",
     "text": [
      "Adf:\n",
      "    A  B\n",
      "0  7  1\n",
      "1  5  9\n",
      "Bdf:\n",
      "    B  A  C\n",
      "0  3  5  6\n",
      "1  4  8  1\n",
      "2  1  4  1\n",
      "\n",
      "Adf+Bdf: \n",
      "       A     B   C\n",
      "0  12.0   4.0 NaN\n",
      "1  13.0  13.0 NaN\n",
      "2   NaN   NaN NaN\n"
     ]
    }
   ],
   "source": [
    "#Tạo 2 DataFrame Adf, Bdf và tính tổng các giá trị\n",
    "import pandas as pd\n",
    "import numpy as np\n",
    "Adf=pd.DataFrame(np.random.randint(0,10,(2,2)), columns=['A','B']) \n",
    "Bdf=pd.DataFrame(np.random.randint(0,10,(3,3)),columns=['B','A','C'])\n",
    "print(\"Adf:\\n\",Adf)\n",
    "print(\"Bdf:\\n\",Bdf)\n",
    "print(\"\\nAdf+Bdf: \\n\", Adf+Bdf)"
   ]
  },
  {
   "cell_type": "code",
   "execution_count": 16,
   "metadata": {},
   "outputs": [
    {
     "name": "stdout",
     "output_type": "stream",
     "text": [
      "Adf+Bdf(filled A):\n",
      "       A     B    C\n",
      "0  12.0   4.0  6.0\n",
      "1  13.0  13.0  1.0\n",
      "2   4.0   1.0  1.0\n"
     ]
    }
   ],
   "source": [
    "print(\"Adf+Bdf(filled A):\\n\", Adf.add(Bdf,fill_value=0))"
   ]
  },
  {
   "cell_type": "code",
   "execution_count": 21,
   "metadata": {},
   "outputs": [
    {
     "data": {
      "text/plain": [
       "array([[0, 6, 2, 5],\n",
       "       [8, 2, 8, 4],\n",
       "       [5, 4, 8, 9]])"
      ]
     },
     "execution_count": 21,
     "metadata": {},
     "output_type": "execute_result"
    }
   ],
   "source": [
    "arr = np.random.randint(10,size=(3,4))\n",
    "arr"
   ]
  },
  {
   "cell_type": "code",
   "execution_count": 22,
   "metadata": {},
   "outputs": [
    {
     "data": {
      "text/plain": [
       "array([[ 0,  0,  0,  0],\n",
       "       [ 8, -4,  6, -1],\n",
       "       [ 5, -2,  6,  4]])"
      ]
     },
     "execution_count": 22,
     "metadata": {},
     "output_type": "execute_result"
    }
   ],
   "source": [
    "arr-arr[0]"
   ]
  },
  {
   "cell_type": "code",
   "execution_count": 23,
   "metadata": {},
   "outputs": [
    {
     "name": "stdout",
     "output_type": "stream",
     "text": [
      "df:\n",
      "    P  Q  M  N\n",
      "0  0  6  2  5\n",
      "1  8  2  8  4\n",
      "2  5  4  8  9\n"
     ]
    },
    {
     "data": {
      "text/html": [
       "<div>\n",
       "<style scoped>\n",
       "    .dataframe tbody tr th:only-of-type {\n",
       "        vertical-align: middle;\n",
       "    }\n",
       "\n",
       "    .dataframe tbody tr th {\n",
       "        vertical-align: top;\n",
       "    }\n",
       "\n",
       "    .dataframe thead th {\n",
       "        text-align: right;\n",
       "    }\n",
       "</style>\n",
       "<table border=\"1\" class=\"dataframe\">\n",
       "  <thead>\n",
       "    <tr style=\"text-align: right;\">\n",
       "      <th></th>\n",
       "      <th>P</th>\n",
       "      <th>Q</th>\n",
       "      <th>M</th>\n",
       "      <th>N</th>\n",
       "    </tr>\n",
       "  </thead>\n",
       "  <tbody>\n",
       "    <tr>\n",
       "      <th>0</th>\n",
       "      <td>0</td>\n",
       "      <td>0</td>\n",
       "      <td>0</td>\n",
       "      <td>0</td>\n",
       "    </tr>\n",
       "    <tr>\n",
       "      <th>1</th>\n",
       "      <td>8</td>\n",
       "      <td>-4</td>\n",
       "      <td>6</td>\n",
       "      <td>-1</td>\n",
       "    </tr>\n",
       "    <tr>\n",
       "      <th>2</th>\n",
       "      <td>5</td>\n",
       "      <td>-2</td>\n",
       "      <td>6</td>\n",
       "      <td>4</td>\n",
       "    </tr>\n",
       "  </tbody>\n",
       "</table>\n",
       "</div>"
      ],
      "text/plain": [
       "   P  Q  M  N\n",
       "0  0  0  0  0\n",
       "1  8 -4  6 -1\n",
       "2  5 -2  6  4"
      ]
     },
     "execution_count": 23,
     "metadata": {},
     "output_type": "execute_result"
    }
   ],
   "source": [
    "#Tạo DataFrame df từ mảng NumPy với các cột là P, Q, M, N\n",
    "df = pd.DataFrame(arr,columns=['P','Q','M','N']) \n",
    "print(\"df:\\n\",df)\n",
    "#Tính toán hiệu của df với phần tử tương ứng trong hàng đầu của nó\n",
    "df-df.iloc[0] "
   ]
  },
  {
   "cell_type": "code",
   "execution_count": 25,
   "metadata": {},
   "outputs": [
    {
     "name": "stdout",
     "output_type": "stream",
     "text": [
      "df1:\n",
      "    P  Q  M  N\n",
      "0 -6  0 -4 -1\n",
      "1  6  0  6  2\n",
      "2  1  0  4  5\n",
      "df2:\n",
      "     P   Q   M   N\n",
      "0   0  30  10  25\n",
      "1  32   8  32  16\n",
      "2  45  36  72  81\n"
     ]
    }
   ],
   "source": [
    "#trừ cac phần tử trong df với côtj Q\n",
    "print(\"df1:\\n\", df.subtract(df['Q'],axis=0))\n",
    "# nhan các phần tử tương ứng của df với cột N\n",
    "print(\"df2:\\n\", df.multiply(df['N'],axis=0))"
   ]
  },
  {
   "cell_type": "code",
   "execution_count": null,
   "metadata": {},
   "outputs": [],
   "source": [
    "even=df[df]"
   ]
  }
 ],
 "metadata": {
  "kernelspec": {
   "display_name": "Python 3",
   "language": "python",
   "name": "python3"
  },
  "language_info": {
   "codemirror_mode": {
    "name": "ipython",
    "version": 3
   },
   "file_extension": ".py",
   "mimetype": "text/x-python",
   "name": "python",
   "nbconvert_exporter": "python",
   "pygments_lexer": "ipython3",
   "version": "3.10.10"
  }
 },
 "nbformat": 4,
 "nbformat_minor": 2
}
