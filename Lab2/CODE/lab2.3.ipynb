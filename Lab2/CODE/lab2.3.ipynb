{
 "cells": [
  {
   "cell_type": "code",
   "execution_count": 1,
   "metadata": {},
   "outputs": [
    {
     "name": "stdout",
     "output_type": "stream",
     "text": [
      "[94.0, 97.0]\n",
      "['Afternoon', 'Afternoon']\n"
     ]
    }
   ],
   "source": [
    "import numpy as np\n",
    "path_1 = '/Users/nguyenxuanty/Documents/Baitappython/Lab2/DATA/efficiency.txt'\n",
    "efficiency = []\n",
    "with open(path_1,'r') as file_efficiency:\n",
    "    for line in file_efficiency:\n",
    "        efficiency.append(float(line.strip()))\n",
    "print(efficiency[0:2])\n",
    "\n",
    "path_2 = '/Users/nguyenxuanty/Documents/Baitappython/Lab2/DATA/shifts.txt'\n",
    "shifts= []\n",
    "with open(path_2,'r') as file_shifts:\n",
    "    for line in file_shifts:\n",
    "        shifts.append(line.strip())\n",
    "print(shifts[0:2])\n"
   ]
  },
  {
   "cell_type": "code",
   "execution_count": 2,
   "metadata": {},
   "outputs": [
    {
     "name": "stdout",
     "output_type": "stream",
     "text": [
      "kiểu dữ liệu của np_shifts là: <U9\n"
     ]
    }
   ],
   "source": [
    "#2. Tạo numpy array np_shifts từ list shifts và kiểm tra kiểu dữ liệu của np_shifts.\n",
    "np_shifts = np.array(shifts)\n",
    "print(\"kiểu dữ liệu của np_shifts là:\",np_shifts.dtype)"
   ]
  },
  {
   "cell_type": "code",
   "execution_count": 3,
   "metadata": {},
   "outputs": [
    {
     "name": "stdout",
     "output_type": "stream",
     "text": [
      "kiểu dữ liệu của np_efficiency là: float64\n"
     ]
    }
   ],
   "source": [
    "# 3. Tạo numpy array np_efficiency từ list efficiency và kiểm tra kiểu dữ liệu của np_efficiency.\n",
    "np_efficiency = np.array(efficiency)\n",
    "print(\"kiểu dữ liệu của np_efficiency là:\",np_efficiency.dtype)"
   ]
  },
  {
   "cell_type": "code",
   "execution_count": 13,
   "metadata": {},
   "outputs": [
    {
     "name": "stdout",
     "output_type": "stream",
     "text": [
      "96.8529411764706\n"
     ]
    }
   ],
   "source": [
    "#Tính hiệu suất sản xuất trung bình của những nhân viên làm việc vào ca 'Morning'\n",
    "mean_morning = np.mean(np_efficiency[np_shifts=='Morning'])\n",
    "print(mean_morning)"
   ]
  },
  {
   "cell_type": "code",
   "execution_count": 15,
   "metadata": {},
   "outputs": [
    {
     "data": {
      "text/plain": [
       "98.93939393939394"
      ]
     },
     "execution_count": 15,
     "metadata": {},
     "output_type": "execute_result"
    }
   ],
   "source": [
    "#Tính hiệu suất sản xuất trung bình của những nhân viên làm việc trong các ca khác (Không phải là 'Morning')\n",
    "mean_other = np.mean(np_efficiency[np_shifts != 'Morning'])\n",
    "mean_other\n"
   ]
  },
  {
   "cell_type": "code",
   "execution_count": 6,
   "metadata": {},
   "outputs": [
    {
     "name": "stdout",
     "output_type": "stream",
     "text": [
      "[('Afternoon',  94.) ('Afternoon',  97.) ('Afternoon', 114.)]\n",
      "[('Afternoon', 50.) ('Morning', 50.) ('Night', 50.)]\n",
      "Night\n"
     ]
    }
   ],
   "source": [
    "#Tạo mảng dữ liệu có cấu trúc (Structure Array tự định nghĩa workers gồm 'shift' (kiểu văn bản U10) và 'efficiency' (kiểu 'float')\n",
    "workers = np.array(list(zip(shifts, efficiency)), dtype=[('shift', 'U10'), ('efficiency', 'float')])\n",
    "print(workers[0:3])\n",
    "# Bước 7: Sắp xếp mảng workers theo efficiency\n",
    "sorted_workers = np.sort(workers, order='efficiency')\n",
    "print(sorted_workers[0:3])\n",
    "# Xác định ca làm việc có hiệu suất cao nhất và thấp nhất\n",
    "highest_efficiency_shift = sorted_workers[-1]['shift']\n",
    "lowest_efficiency_shift = sorted_workers[0]['shift']\n",
    "print(highest_efficiency_shift)\n"
   ]
  }
 ],
 "metadata": {
  "kernelspec": {
   "display_name": "Python 3",
   "language": "python",
   "name": "python3"
  },
  "language_info": {
   "codemirror_mode": {
    "name": "ipython",
    "version": 3
   },
   "file_extension": ".py",
   "mimetype": "text/x-python",
   "name": "python",
   "nbconvert_exporter": "python",
   "pygments_lexer": "ipython3",
   "version": "3.10.10"
  }
 },
 "nbformat": 4,
 "nbformat_minor": 2
}
