{
 "cells": [
  {
   "cell_type": "code",
   "execution_count": 5,
   "metadata": {},
   "outputs": [
    {
     "name": "stdout",
     "output_type": "stream",
     "text": [
      "['id,Tên sinh viên,HP 1,HP 2,HP 3', '1,Nguyễn Văn Bình,3.04,3.39,6.7', '2,Lê Thị Na,5.8,6.41,6.62', '3,Trần Văn Thành,2.59,3.57,9.16', '4,Phạm Thị Hồng,3.81,8.78,9.24', '5,Bùi Văn An,8.91,9.64,6.39']\n",
      "['id,Tên sinh viên,HP 1,HP 2,HP 3' '1,Nguyễn Văn Bình,3.04,3.39,6.7'\n",
      " '2,Lê Thị Na,5.8,6.41,6.62' '3,Trần Văn Thành,2.59,3.57,9.16'\n",
      " '4,Phạm Thị Hồng,3.81,8.78,9.24' '5,Bùi Văn An,8.91,9.64,6.39']\n"
     ]
    }
   ],
   "source": [
    "import numpy as np\n",
    "path = '/Users/nguyenxuanty/Documents/Baitappython/Lab2/DATA/diem_hoc_phan.csv'\n",
    "diem_hoc_phan = []\n",
    "with open(path,'r') as file :\n",
    "    for line in file :\n",
    "        diem_hoc_phan.append(line.strip())\n",
    "print(diem_hoc_phan[0:6])\n",
    "\n",
    "np_dhp = np.array(diem_hoc_phan)\n",
    "print(np_dhp[0:6])\n"
   ]
  },
  {
   "cell_type": "code",
   "execution_count": 18,
   "metadata": {},
   "outputs": [
    {
     "ename": "TypeError",
     "evalue": "list indices must be integers or slices, not tuple",
     "output_type": "error",
     "traceback": [
      "\u001b[0;31m---------------------------------------------------------------------------\u001b[0m",
      "\u001b[0;31mTypeError\u001b[0m                                 Traceback (most recent call last)",
      "\u001b[1;32m/Users/nguyenxuanty/Documents/Baitappython/Lab2/CODE/lab2.2.ipynb Cell 2\u001b[0m line \u001b[0;36m2\n\u001b[1;32m     <a href='vscode-notebook-cell:/Users/nguyenxuanty/Documents/Baitappython/Lab2/CODE/lab2.2.ipynb#W1sZmlsZQ%3D%3D?line=15'>16</a>\u001b[0m     \u001b[39melse\u001b[39;00m:\n\u001b[1;32m     <a href='vscode-notebook-cell:/Users/nguyenxuanty/Documents/Baitappython/Lab2/CODE/lab2.2.ipynb#W1sZmlsZQ%3D%3D?line=16'>17</a>\u001b[0m         \u001b[39mreturn\u001b[39;00m F\n\u001b[0;32m---> <a href='vscode-notebook-cell:/Users/nguyenxuanty/Documents/Baitappython/Lab2/CODE/lab2.2.ipynb#W1sZmlsZQ%3D%3D?line=19'>20</a>\u001b[0m qui_doi_diem \u001b[39m=\u001b[39m np\u001b[39m.\u001b[39mvectorize(qui_doi)(diem_hoc_phan[:,\u001b[39m2\u001b[39;49m:]\u001b[39m.\u001b[39mastype(\u001b[39mfloat\u001b[39m))\n",
      "\u001b[0;31mTypeError\u001b[0m: list indices must be integers or slices, not tuple"
     ]
    }
   ],
   "source": [
    "def qui_doi(diem) :\n",
    "    if 8.5<=diem<=10 :\n",
    "        return A\n",
    "    elif 8.0<=diem<=8.4:\n",
    "        return 'B+'\n",
    "    elif 7.0<=diem<8 :\n",
    "        return B\n",
    "    elif 6.5<=diem<7 :\n",
    "        return 'C+'\n",
    "    elif 5.5<=diem<6.5 :\n",
    "        return C\n",
    "    elif 5.0<=diem<=5.5 :\n",
    "        return 'D+'\n",
    "    elif 4.0<=diem<=5.0  :\n",
    "        return D\n",
    "    else:\n",
    "        return F\n",
    "\n",
    "\n",
    "qui_doi_diem = np.vectorize(qui_doi)(diem_hoc_phan[:,2:].astype(float))"
   ]
  }
 ],
 "metadata": {
  "kernelspec": {
   "display_name": "Python 3",
   "language": "python",
   "name": "python3"
  },
  "language_info": {
   "codemirror_mode": {
    "name": "ipython",
    "version": 3
   },
   "file_extension": ".py",
   "mimetype": "text/x-python",
   "name": "python",
   "nbconvert_exporter": "python",
   "pygments_lexer": "ipython3",
   "version": "3.10.10"
  }
 },
 "nbformat": 4,
 "nbformat_minor": 2
}
