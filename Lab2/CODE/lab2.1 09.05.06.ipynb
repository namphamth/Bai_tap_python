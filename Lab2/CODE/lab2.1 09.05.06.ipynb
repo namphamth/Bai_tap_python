{
 "cells": [
  {
   "cell_type": "code",
   "execution_count": 2,
   "metadata": {},
   "outputs": [
    {
     "name": "stdout",
     "output_type": "stream",
     "text": [
      "[13.69 21.52 15.18 12.03 25.04 16.33 23.84 25.57 19.33 10.04 11.54 22.46\n",
      " 19.58 21.46 26.6  11.07 15.87 16.91 26.6  18.13 11.5  11.3  13.44 29.61\n",
      " 29.14 25.85 11.42 13.3  29.96 15.62]\n",
      "nhiệt độ trung bình là 18.797666666666668\n"
     ]
    }
   ],
   "source": [
    "import numpy as np\n",
    "\n",
    "nhietdo = np.round(np.random.uniform(10.0, 30.0 , size=30),2)\n",
    "\n",
    "print(nhietdo)\n",
    "print('nhiệt độ trung bình là',np.mean(nhietdo))"
   ]
  },
  {
   "cell_type": "code",
   "execution_count": 3,
   "metadata": {},
   "outputs": [
    {
     "name": "stdout",
     "output_type": "stream",
     "text": [
      " nhiêt độ cao nhất là: 10.04\n",
      " nhiêt độ thấp nhất là: 29.96\n",
      "ngày có nhiêt độ cao nhất là: 29\n",
      "ngày có nhiêt độ thấp nhất là: 10\n"
     ]
    }
   ],
   "source": [
    "# tìm min và max\n",
    "max_temp = np.min(nhietdo)\n",
    "min_temp = np.max(nhietdo)\n",
    "# xác định ngày có nhiệt độ cao nhất và thấp nhất\n",
    "# chú ý ngày đc tính từ 1 kh phải từ 0\n",
    "day_max_temp = np.argmax(nhietdo)+1\n",
    "day_min_temp = np.argmin(nhietdo)+1\n",
    "\n",
    "print(f' nhiêt độ cao nhất là:',max_temp)\n",
    "print(f' nhiêt độ thấp nhất là:',min_temp)\n",
    "\n",
    "print(f'ngày có nhiêt độ cao nhất là:',day_max_temp)\n",
    "print(f'ngày có nhiêt độ thấp nhất là:',day_min_temp)\n"
   ]
  },
  {
   "cell_type": "code",
   "execution_count": 4,
   "metadata": {},
   "outputs": [
    {
     "ename": "IndexError",
     "evalue": "index 29 is out of bounds for axis 0 with size 29",
     "output_type": "error",
     "traceback": [
      "\u001b[0;31m---------------------------------------------------------------------------\u001b[0m",
      "\u001b[0;31mIndexError\u001b[0m                                Traceback (most recent call last)",
      "\u001b[1;32m/Users/nguyenxuanty/Documents/Baitappython/Lab2/CODE/lab2.1 09.05.06.ipynb Cell 3\u001b[0m line \u001b[0;36m1\n\u001b[1;32m     <a href='vscode-notebook-cell:/Users/nguyenxuanty/Documents/Baitappython/Lab2/CODE/lab2.1%2009.05.06.ipynb#W2sZmlsZQ%3D%3D?line=10'>11</a>\u001b[0m \u001b[39m# xác định ngày có sự chênh lệch nhiệt độ lớn nhats\u001b[39;00m\n\u001b[1;32m     <a href='vscode-notebook-cell:/Users/nguyenxuanty/Documents/Baitappython/Lab2/CODE/lab2.1%2009.05.06.ipynb#W2sZmlsZQ%3D%3D?line=12'>13</a>\u001b[0m dff_max \u001b[39m=\u001b[39m np\u001b[39m.\u001b[39margmax(np\u001b[39m.\u001b[39mabs(chenh_lech)) \u001b[39m+\u001b[39m \u001b[39m1\u001b[39m\n\u001b[0;32m---> <a href='vscode-notebook-cell:/Users/nguyenxuanty/Documents/Baitappython/Lab2/CODE/lab2.1%2009.05.06.ipynb#W2sZmlsZQ%3D%3D?line=13'>14</a>\u001b[0m max_chenh_lech \u001b[39m=\u001b[39m chenh_lech[dff_max]\u001b[39m-\u001b[39m\u001b[39m1\u001b[39m\n\u001b[1;32m     <a href='vscode-notebook-cell:/Users/nguyenxuanty/Documents/Baitappython/Lab2/CODE/lab2.1%2009.05.06.ipynb#W2sZmlsZQ%3D%3D?line=15'>16</a>\u001b[0m \u001b[39mprint\u001b[39m(max_chenh_lech)\n",
      "\u001b[0;31mIndexError\u001b[0m: index 29 is out of bounds for axis 0 with size 29"
     ]
    }
   ],
   "source": [
    "# tạo mảng chứa nhiệt độ của ngày hôm trước(trừ ngày đàu tiên)\n",
    "ngay_truoc = nhietdo[:-1]\n",
    "\n",
    "## tạo mảng chứa nhiệt độ của ngày hôm sau(trừ ngày cuối cùng)\n",
    "ngay_sau = nhietdo[:1]\n",
    "\n",
    "#tính toán sự chênh lệch nhiệt đọ hôm trc và hôm sau\n",
    "\n",
    "chenh_lech = ngay_sau - ngay_truoc\n",
    "\n",
    "# xác định ngày có sự chênh lệch nhiệt độ lớn nhats\n",
    "\n",
    "dff_max = np.argmax(np.abs(chenh_lech)) + 1\n",
    "max_chenh_lech = chenh_lech[dff_max]-1\n",
    "\n",
    "print(max_chenh_lech)"
   ]
  },
  {
   "cell_type": "code",
   "execution_count": 5,
   "metadata": {},
   "outputs": [
    {
     "data": {
      "text/plain": [
       "array([ 2,  5,  7,  8, 12, 14, 15, 19, 24, 25, 26, 29])"
      ]
     },
     "execution_count": 5,
     "metadata": {},
     "output_type": "execute_result"
    }
   ],
   "source": [
    "condition = nhietdo > 20\n",
    "\n",
    "indicies = np.where(condition)\n",
    "\n",
    "day_indicies = indicies[0]\n",
    "\n",
    "day_above_20 = day_indicies + 1\n",
    "\n",
    "day_above_20"
   ]
  }
 ],
 "metadata": {
  "kernelspec": {
   "display_name": "Python 3",
   "language": "python",
   "name": "python3"
  },
  "language_info": {
   "codemirror_mode": {
    "name": "ipython",
    "version": 3
   },
   "file_extension": ".py",
   "mimetype": "text/x-python",
   "name": "python",
   "nbconvert_exporter": "python",
   "pygments_lexer": "ipython3",
   "version": "3.10.10"
  }
 },
 "nbformat": 4,
 "nbformat_minor": 2
}
