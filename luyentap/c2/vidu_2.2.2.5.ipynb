{
 "cells": [
  {
   "cell_type": "code",
   "execution_count": 3,
   "metadata": {},
   "outputs": [
    {
     "name": "stdout",
     "output_type": "stream",
     "text": [
      "Đối tượng số phức.. (4+5j)\n",
      "Đối tượng bình thường.. None\n"
     ]
    }
   ],
   "source": [
    "import json\n",
    "# Hàm kiểm tra chuỗi JSON có chứa đối tượng phức (complex object) hay không\n",
    "def is_complex(objct):\n",
    "    # Kiểm tra xem trong đối tượng có tồn tại khóa '__complex__' hay không\n",
    "    if '__complex__' in objct:\n",
    "        # Nếu có, tạo một số phức từ thông tin trong đối tượng\n",
    "        return complex(objct['real'], objct['img'])\n",
    "        # Nếu không có khóa '__complex__', đối tượng không phải là đối tượng phức,\n",
    "        # trả về đối tượng gốc\n",
    "        return objct\n",
    "def main():\n",
    "# Sử dụng hàm json.loads() với object_hook để kiểm tra và chuyển đổi đối tượng\n",
    " #phức trong chuỗi JSON\n",
    "    complex_object = json.loads('{\"__complex__\": true, \"real\": 4, \"img\": 5}',\n",
    "       object_hook=is_complex)\n",
    "    simple_object = json.loads('{\"real\": 6, \"img\": 7}',\n",
    "       object_hook=is_complex)\n",
    "# In kết quả phân tích chuỗi JSON cho cả đối tượng phức và đối tượng thường\n",
    "    print(\"Đối tượng số phức..\", complex_object)\n",
    "    print(\"Đối tượng bình thường..\", simple_object)\n",
    "if __name__ == \"__main__\":\n",
    "    main()"
   ]
  }
 ],
 "metadata": {
  "kernelspec": {
   "display_name": "Python 3",
   "language": "python",
   "name": "python3"
  },
  "language_info": {
   "codemirror_mode": {
    "name": "ipython",
    "version": 3
   },
   "file_extension": ".py",
   "mimetype": "text/x-python",
   "name": "python",
   "nbconvert_exporter": "python",
   "pygments_lexer": "ipython3",
   "version": "3.10.10"
  }
 },
 "nbformat": 4,
 "nbformat_minor": 2
}
