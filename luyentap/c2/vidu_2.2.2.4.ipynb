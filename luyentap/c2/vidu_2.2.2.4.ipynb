{
 "cells": [
  {
   "cell_type": "code",
   "execution_count": 7,
   "metadata": {},
   "outputs": [
    {
     "name": "stdout",
     "output_type": "stream",
     "text": [
      "<class 'complex'>\n",
      "[5.0, 3.0]\n",
      "<class 'str'>\n"
     ]
    }
   ],
   "source": [
    "import json\n",
    "# Viết một hàm để kiểm tra xem một đối tượng có phải là số phức hay không.\n",
    "def complex_encode(object):\n",
    "# Kiểm tra sử dụng isinstance method\n",
    "    if isinstance(object, complex):\n",
    "        return [object.real, object.imag]\n",
    "    # Kích hoạt lỗi sử dụng exception handling nếu object không phải là số phức\n",
    "    raise TypeError(repr(object) + \" is not JSON serialized\")\n",
    "data = 5+3j #Data là đối tượng số phức\n",
    "print(type(data))\n",
    "# Sử dụng hàm json.dumps() để mã hóa số phức 4 + 3j thành chuỗi JSON.\n",
    "complex_obj = json.dumps(data, default=complex_encode)\n",
    "print(complex_obj)\n",
    "print(type(complex_obj))"
   ]
  },
  {
   "cell_type": "code",
   "execution_count": null,
   "metadata": {},
   "outputs": [],
   "source": []
  }
 ],
 "metadata": {
  "kernelspec": {
   "display_name": "Python 3",
   "language": "python",
   "name": "python3"
  },
  "language_info": {
   "codemirror_mode": {
    "name": "ipython",
    "version": 3
   },
   "file_extension": ".py",
   "mimetype": "text/x-python",
   "name": "python",
   "nbconvert_exporter": "python",
   "pygments_lexer": "ipython3",
   "version": "3.10.10"
  }
 },
 "nbformat": 4,
 "nbformat_minor": 2
}
