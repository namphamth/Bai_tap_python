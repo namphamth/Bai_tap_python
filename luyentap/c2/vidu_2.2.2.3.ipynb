{
 "cells": [
  {
   "cell_type": "code",
   "execution_count": 3,
   "metadata": {},
   "outputs": [
    {
     "name": "stdout",
     "output_type": "stream",
     "text": [
      "{\"name\": \"A\", \"age\": 35, \"company\": \"Đất Việt\"}\n",
      "<class 'str'>\n",
      "<class 'dict'>\n"
     ]
    }
   ],
   "source": [
    "import json\n",
    "# Đối tượng Python (đối tượng JSON)\n",
    "data = {\n",
    "    \"name\": \"A\",\n",
    "    \"age\": 35,\n",
    "    \"company\": \"Đất Việt\"\n",
    "}\n",
    "# Chuyển đối tượng Python thành chuỗi JSON\n",
    "json_string = json.dumps(data, ensure_ascii=False)#hiển thị code unicode dạng nguyên thuỷ\n",
    "\n",
    "print(json_string)\n",
    "print(type(json_string))\n",
    "print(type(data))"
   ]
  }
 ],
 "metadata": {
  "kernelspec": {
   "display_name": "Python 3",
   "language": "python",
   "name": "python3"
  },
  "language_info": {
   "codemirror_mode": {
    "name": "ipython",
    "version": 3
   },
   "file_extension": ".py",
   "mimetype": "text/x-python",
   "name": "python",
   "nbconvert_exporter": "python",
   "pygments_lexer": "ipython3",
   "version": "3.10.10"
  }
 },
 "nbformat": 4,
 "nbformat_minor": 2
}
