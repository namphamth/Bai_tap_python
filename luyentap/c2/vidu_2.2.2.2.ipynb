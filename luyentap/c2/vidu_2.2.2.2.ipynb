{
 "cells": [
  {
   "cell_type": "code",
   "execution_count": 4,
   "metadata": {},
   "outputs": [
    {
     "name": "stdout",
     "output_type": "stream",
     "text": [
      "{'name': 'A', 'age': 35, 'company': 'Đất Việt'}\n",
      "{'name': 'A', 'age': 35, 'company': 'Đất Việt'}\n",
      "kiểu của json1 là  <class 'dict'>\n"
     ]
    }
   ],
   "source": [
    "import json\n",
    "# Chuỗi JSON bao quanh bằng dấu nháy đơn\n",
    "json_string_1 = '{\"name\": \"A\", \"age\": 35, \"company\": \"Đất Việt\"}'\n",
    "# Chuỗi JSON bao quanh bằng dấu nháy kép\n",
    "json_string_2 = \"{\\\"name\\\": \\\"A\\\", \\\"age\\\": 35, \\\"company\\\": \\\"Đất Việt\\\"}\"\n",
    "\n",
    "# Chuyển chuỗi JSON thành đối tượng Python (đối tượng JSON)\n",
    "json_object_1 = json.loads(json_string_1)\n",
    "json_object_2 = json.loads(json_string_2)\n",
    "print(json_object_1)\n",
    "print(json_object_2)\n",
    "print(\"kiểu của json1 là \",type(json_object_1))"
   ]
  }
 ],
 "metadata": {
  "kernelspec": {
   "display_name": "Python 3",
   "language": "python",
   "name": "python3"
  },
  "language_info": {
   "codemirror_mode": {
    "name": "ipython",
    "version": 3
   },
   "file_extension": ".py",
   "mimetype": "text/x-python",
   "name": "python",
   "nbconvert_exporter": "python",
   "pygments_lexer": "ipython3",
   "version": "3.10.10"
  },
  "orig_nbformat": 4,
  "vscode": {
   "interpreter": {
    "hash": "b0fa6594d8f4cbf19f97940f81e996739fb7646882a419484c72d19e05852a7e"
   }
  }
 },
 "nbformat": 4,
 "nbformat_minor": 2
}
