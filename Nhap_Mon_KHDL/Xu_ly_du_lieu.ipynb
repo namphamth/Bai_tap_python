{
 "cells": [
  {
   "cell_type": "markdown",
   "metadata": {},
   "source": [
    "LỰA CHỌN SỬ DỤNG THƯ VIỆN 'PANDAS' ĐỂ XỬ LÝ DỮ LIỆU CÒN THIẾU"
   ]
  },
  {
   "cell_type": "markdown",
   "metadata": {},
   "source": [
    "BƯỚC 1 : Đọc file dữ liệu "
   ]
  },
  {
   "cell_type": "code",
   "execution_count": 1,
   "metadata": {},
   "outputs": [],
   "source": [
    "import pandas as pd\n",
    "\n",
    "# Đường dẫn tới file dữ liệu \n",
    "\n",
    "path_data = '/Users/nguyenxuanty/Documents/Baitappython/Nhap_Mon_KHDL/data_G4.xlsx'\n",
    "\n",
    "# Đọc dữ liệu từ một tệp Excel\n",
    "\n",
    "data_G4_df = pd.read_excel(path_data)\n",
    "\n"
   ]
  },
  {
   "cell_type": "markdown",
   "metadata": {},
   "source": [
    "BƯỚC 2 : Kiểm tra dữ liệu "
   ]
  },
  {
   "cell_type": "code",
   "execution_count": 3,
   "metadata": {},
   "outputs": [
    {
     "name": "stdout",
     "output_type": "stream",
     "text": [
      "---- Toàn Bộ Dữ Liệu Của data_G4 ----\n",
      "      ID  math   literature  english\n",
      "0  SV001   8.5          9.0      7.5\n",
      "1  SV002   7.0          NaN      6.5\n",
      "2  SV003   9.0          8.5      8.0\n",
      "3  SV004   NaN          7.0      6.5\n",
      "4  SV005   8.0          8.0      7.0\n"
     ]
    }
   ],
   "source": [
    "# Hiển thị toàn bộ dữ liệu\n",
    "\n",
    "print(\"---- Toàn Bộ Dữ Liệu Của data_G4 ----\")\n",
    "print(data_G4_df)"
   ]
  },
  {
   "cell_type": "code",
   "execution_count": 4,
   "metadata": {},
   "outputs": [
    {
     "name": "stdout",
     "output_type": "stream",
     "text": [
      "-- Thông Tin Tổng Quan Của Dữ Liệu data_G4 --\n",
      "<class 'pandas.core.frame.DataFrame'>\n",
      "RangeIndex: 5 entries, 0 to 4\n",
      "Data columns (total 4 columns):\n",
      " #   Column       Non-Null Count  Dtype  \n",
      "---  ------       --------------  -----  \n",
      " 0   ID           5 non-null      object \n",
      " 1   math         4 non-null      float64\n",
      " 2    literature  4 non-null      float64\n",
      " 3   english      5 non-null      float64\n",
      "dtypes: float64(3), object(1)\n",
      "memory usage: 288.0+ bytes\n",
      "None\n"
     ]
    }
   ],
   "source": [
    "# Thông tin tổng quan của dữ liệu\n",
    "\n",
    "print(\"-- Thông Tin Tổng Quan Của Dữ Liệu data_G4 --\")\n",
    "print(data_G4_df.info())"
   ]
  },
  {
   "cell_type": "code",
   "execution_count": 5,
   "metadata": {},
   "outputs": [
    {
     "name": "stdout",
     "output_type": "stream",
     "text": [
      "---------- Dữ Liệu Bị Null ----------\n",
      "      ID   math   literature  english\n",
      "0  False  False        False    False\n",
      "1  False  False         True    False\n",
      "2  False  False        False    False\n",
      "3  False   True        False    False\n",
      "4  False  False        False    False\n",
      "-- Tổng Dữ Liệu Bị Null Ở Mỗi Cột Là --\n",
      "ID             0\n",
      "math           1\n",
      " literature    1\n",
      "english        0\n",
      "dtype: int64\n"
     ]
    }
   ],
   "source": [
    "# Kiểm tra dữ liệu data_G4 có dữ liệu nào bị null không\n",
    "\n",
    "print(\"---------- Dữ Liệu Bị Null ----------\")\n",
    "print(data_G4_df.isnull())\n",
    "\n",
    "print(\"-- Tổng Dữ Liệu Bị Null Ở Mỗi Cột Là --\")\n",
    "print(data_G4_df.isnull().sum())"
   ]
  },
  {
   "cell_type": "markdown",
   "metadata": {},
   "source": [
    "BƯỚC 3 : Xử lí dữ liệu bị thiếu bằng cách điền giá trị trung bình của cột có giá trị Null"
   ]
  },
  {
   "cell_type": "markdown",
   "metadata": {},
   "source": [
    "CÁCH 1 : Xử lý theo từng cột"
   ]
  },
  {
   "cell_type": "code",
   "execution_count": 6,
   "metadata": {},
   "outputs": [
    {
     "name": "stdout",
     "output_type": "stream",
     "text": [
      "Giá trị trung bình của cột 'math' là :  8.125\n",
      "-- Hiển Thị Dữ Liệu Ở Cột math --\n",
      "0    8.500\n",
      "1    7.000\n",
      "2    9.000\n",
      "3    8.125\n",
      "4    8.000\n",
      "Name: math, dtype: float64\n"
     ]
    }
   ],
   "source": [
    "# Tính giá trị trung bình của cột math có giá trị Null\n",
    "\n",
    "mean_math = data_G4_df['math'].mean()\n",
    "print(\"Giá trị trung bình của cột 'math' là : \",mean_math)\n",
    "\n",
    "# Thay thế giá trị Null ở cột math thành giá trị trung bình của cột math\n",
    "\n",
    "data_G4_df['math'].fillna(value=mean_math,inplace=True)#(inplace=True thì mặc định df sẽ thay đổi trực tiếp không trả về bản sao mới )\n",
    "print(\"-- Hiển Thị Dữ Liệu Ở Cột math --\")\n",
    "print(data_G4_df['math'])"
   ]
  },
  {
   "cell_type": "code",
   "execution_count": 7,
   "metadata": {},
   "outputs": [
    {
     "name": "stdout",
     "output_type": "stream",
     "text": [
      "Giá trị trung bình của cột 'literature' là :  8.125\n",
      "-- Hiển Thị Dữ Liệu Ở Cột literature --\n",
      "0    9.000\n",
      "1    8.125\n",
      "2    8.500\n",
      "3    7.000\n",
      "4    8.000\n",
      "Name:  literature, dtype: float64\n"
     ]
    }
   ],
   "source": [
    "# Tính giá trị trung bình của cột literature có giá trị Null\n",
    "\n",
    "mean_literature = data_G4_df[' literature'].mean()\n",
    "print(\"Giá trị trung bình của cột 'literature' là : \",mean_literature)\n",
    "\n",
    "# Thay thế giá trị Null ở cột literature thành giá trị trung bình của cột literature\n",
    "\n",
    "data_G4_df[' literature'].fillna(value=mean_literature,inplace=True)#(inplace=True thì mặc định df sẻ thay đổi trực tiếp kh trả về bản sao mới )\n",
    "print(\"-- Hiển Thị Dữ Liệu Ở Cột literature --\")\n",
    "print(data_G4_df[' literature'])"
   ]
  },
  {
   "cell_type": "markdown",
   "metadata": {},
   "source": [
    "CẤCH 2 : Xử lý tất cả các cột"
   ]
  },
  {
   "cell_type": "code",
   "execution_count": 8,
   "metadata": {},
   "outputs": [
    {
     "ename": "TypeError",
     "evalue": "Could not convert ['SV001SV002SV003SV004SV005'] to numeric",
     "output_type": "error",
     "traceback": [
      "\u001b[0;31m---------------------------------------------------------------------------\u001b[0m",
      "\u001b[0;31mTypeError\u001b[0m                                 Traceback (most recent call last)",
      "\u001b[1;32m/Users/nguyenxuanty/Documents/Baitappython/Nhap_Mon_KHDL/Xu_ly_du_lieu.ipynb Cell 13\u001b[0m line \u001b[0;36m2\n\u001b[1;32m      <a href='vscode-notebook-cell:/Users/nguyenxuanty/Documents/Baitappython/Nhap_Mon_KHDL/Xu_ly_du_lieu.ipynb#X22sZmlsZQ%3D%3D?line=0'>1</a>\u001b[0m \u001b[39m# Tính giá trị trung bình của từng cột\u001b[39;00m\n\u001b[0;32m----> <a href='vscode-notebook-cell:/Users/nguyenxuanty/Documents/Baitappython/Nhap_Mon_KHDL/Xu_ly_du_lieu.ipynb#X22sZmlsZQ%3D%3D?line=1'>2</a>\u001b[0m mean_values \u001b[39m=\u001b[39m data_G4_df\u001b[39m.\u001b[39;49mmean()\n\u001b[1;32m      <a href='vscode-notebook-cell:/Users/nguyenxuanty/Documents/Baitappython/Nhap_Mon_KHDL/Xu_ly_du_lieu.ipynb#X22sZmlsZQ%3D%3D?line=2'>3</a>\u001b[0m \u001b[39mprint\u001b[39m(\u001b[39m\"\u001b[39m\u001b[39mGiá trị trung bình của từng cột là:\u001b[39m\u001b[39m\"\u001b[39m)\n\u001b[1;32m      <a href='vscode-notebook-cell:/Users/nguyenxuanty/Documents/Baitappython/Nhap_Mon_KHDL/Xu_ly_du_lieu.ipynb#X22sZmlsZQ%3D%3D?line=3'>4</a>\u001b[0m \u001b[39mprint\u001b[39m(mean_values)\n",
      "File \u001b[0;32m/opt/homebrew/lib/python3.10/site-packages/pandas/core/frame.py:11335\u001b[0m, in \u001b[0;36mDataFrame.mean\u001b[0;34m(self, axis, skipna, numeric_only, **kwargs)\u001b[0m\n\u001b[1;32m  11327\u001b[0m \u001b[39m@doc\u001b[39m(make_doc(\u001b[39m\"\u001b[39m\u001b[39mmean\u001b[39m\u001b[39m\"\u001b[39m, ndim\u001b[39m=\u001b[39m\u001b[39m2\u001b[39m))\n\u001b[1;32m  11328\u001b[0m \u001b[39mdef\u001b[39;00m \u001b[39mmean\u001b[39m(\n\u001b[1;32m  11329\u001b[0m     \u001b[39mself\u001b[39m,\n\u001b[0;32m   (...)\u001b[0m\n\u001b[1;32m  11333\u001b[0m     \u001b[39m*\u001b[39m\u001b[39m*\u001b[39mkwargs,\n\u001b[1;32m  11334\u001b[0m ):\n\u001b[0;32m> 11335\u001b[0m     result \u001b[39m=\u001b[39m \u001b[39msuper\u001b[39;49m()\u001b[39m.\u001b[39;49mmean(axis, skipna, numeric_only, \u001b[39m*\u001b[39;49m\u001b[39m*\u001b[39;49mkwargs)\n\u001b[1;32m  11336\u001b[0m     \u001b[39mif\u001b[39;00m \u001b[39misinstance\u001b[39m(result, Series):\n\u001b[1;32m  11337\u001b[0m         result \u001b[39m=\u001b[39m result\u001b[39m.\u001b[39m__finalize__(\u001b[39mself\u001b[39m, method\u001b[39m=\u001b[39m\u001b[39m\"\u001b[39m\u001b[39mmean\u001b[39m\u001b[39m\"\u001b[39m)\n",
      "File \u001b[0;32m/opt/homebrew/lib/python3.10/site-packages/pandas/core/generic.py:11984\u001b[0m, in \u001b[0;36mNDFrame.mean\u001b[0;34m(self, axis, skipna, numeric_only, **kwargs)\u001b[0m\n\u001b[1;32m  11977\u001b[0m \u001b[39mdef\u001b[39;00m \u001b[39mmean\u001b[39m(\n\u001b[1;32m  11978\u001b[0m     \u001b[39mself\u001b[39m,\n\u001b[1;32m  11979\u001b[0m     axis: Axis \u001b[39m|\u001b[39m \u001b[39mNone\u001b[39;00m \u001b[39m=\u001b[39m \u001b[39m0\u001b[39m,\n\u001b[0;32m   (...)\u001b[0m\n\u001b[1;32m  11982\u001b[0m     \u001b[39m*\u001b[39m\u001b[39m*\u001b[39mkwargs,\n\u001b[1;32m  11983\u001b[0m ) \u001b[39m-\u001b[39m\u001b[39m>\u001b[39m Series \u001b[39m|\u001b[39m \u001b[39mfloat\u001b[39m:\n\u001b[0;32m> 11984\u001b[0m     \u001b[39mreturn\u001b[39;00m \u001b[39mself\u001b[39;49m\u001b[39m.\u001b[39;49m_stat_function(\n\u001b[1;32m  11985\u001b[0m         \u001b[39m\"\u001b[39;49m\u001b[39mmean\u001b[39;49m\u001b[39m\"\u001b[39;49m, nanops\u001b[39m.\u001b[39;49mnanmean, axis, skipna, numeric_only, \u001b[39m*\u001b[39;49m\u001b[39m*\u001b[39;49mkwargs\n\u001b[1;32m  11986\u001b[0m     )\n",
      "File \u001b[0;32m/opt/homebrew/lib/python3.10/site-packages/pandas/core/generic.py:11941\u001b[0m, in \u001b[0;36mNDFrame._stat_function\u001b[0;34m(self, name, func, axis, skipna, numeric_only, **kwargs)\u001b[0m\n\u001b[1;32m  11937\u001b[0m nv\u001b[39m.\u001b[39mvalidate_func(name, (), kwargs)\n\u001b[1;32m  11939\u001b[0m validate_bool_kwarg(skipna, \u001b[39m\"\u001b[39m\u001b[39mskipna\u001b[39m\u001b[39m\"\u001b[39m, none_allowed\u001b[39m=\u001b[39m\u001b[39mFalse\u001b[39;00m)\n\u001b[0;32m> 11941\u001b[0m \u001b[39mreturn\u001b[39;00m \u001b[39mself\u001b[39;49m\u001b[39m.\u001b[39;49m_reduce(\n\u001b[1;32m  11942\u001b[0m     func, name\u001b[39m=\u001b[39;49mname, axis\u001b[39m=\u001b[39;49maxis, skipna\u001b[39m=\u001b[39;49mskipna, numeric_only\u001b[39m=\u001b[39;49mnumeric_only\n\u001b[1;32m  11943\u001b[0m )\n",
      "File \u001b[0;32m/opt/homebrew/lib/python3.10/site-packages/pandas/core/frame.py:11204\u001b[0m, in \u001b[0;36mDataFrame._reduce\u001b[0;34m(self, op, name, axis, skipna, numeric_only, filter_type, **kwds)\u001b[0m\n\u001b[1;32m  11200\u001b[0m     df \u001b[39m=\u001b[39m df\u001b[39m.\u001b[39mT\n\u001b[1;32m  11202\u001b[0m \u001b[39m# After possibly _get_data and transposing, we are now in the\u001b[39;00m\n\u001b[1;32m  11203\u001b[0m \u001b[39m#  simple case where we can use BlockManager.reduce\u001b[39;00m\n\u001b[0;32m> 11204\u001b[0m res \u001b[39m=\u001b[39m df\u001b[39m.\u001b[39;49m_mgr\u001b[39m.\u001b[39;49mreduce(blk_func)\n\u001b[1;32m  11205\u001b[0m out \u001b[39m=\u001b[39m df\u001b[39m.\u001b[39m_constructor_from_mgr(res, axes\u001b[39m=\u001b[39mres\u001b[39m.\u001b[39maxes)\u001b[39m.\u001b[39miloc[\u001b[39m0\u001b[39m]\n\u001b[1;32m  11206\u001b[0m \u001b[39mif\u001b[39;00m out_dtype \u001b[39mis\u001b[39;00m \u001b[39mnot\u001b[39;00m \u001b[39mNone\u001b[39;00m \u001b[39mand\u001b[39;00m out\u001b[39m.\u001b[39mdtype \u001b[39m!=\u001b[39m \u001b[39m\"\u001b[39m\u001b[39mboolean\u001b[39m\u001b[39m\"\u001b[39m:\n",
      "File \u001b[0;32m/opt/homebrew/lib/python3.10/site-packages/pandas/core/internals/managers.py:1459\u001b[0m, in \u001b[0;36mBlockManager.reduce\u001b[0;34m(self, func)\u001b[0m\n\u001b[1;32m   1457\u001b[0m res_blocks: \u001b[39mlist\u001b[39m[Block] \u001b[39m=\u001b[39m []\n\u001b[1;32m   1458\u001b[0m \u001b[39mfor\u001b[39;00m blk \u001b[39min\u001b[39;00m \u001b[39mself\u001b[39m\u001b[39m.\u001b[39mblocks:\n\u001b[0;32m-> 1459\u001b[0m     nbs \u001b[39m=\u001b[39m blk\u001b[39m.\u001b[39;49mreduce(func)\n\u001b[1;32m   1460\u001b[0m     res_blocks\u001b[39m.\u001b[39mextend(nbs)\n\u001b[1;32m   1462\u001b[0m index \u001b[39m=\u001b[39m Index([\u001b[39mNone\u001b[39;00m])  \u001b[39m# placeholder\u001b[39;00m\n",
      "File \u001b[0;32m/opt/homebrew/lib/python3.10/site-packages/pandas/core/internals/blocks.py:377\u001b[0m, in \u001b[0;36mBlock.reduce\u001b[0;34m(self, func)\u001b[0m\n\u001b[1;32m    371\u001b[0m \u001b[39m@final\u001b[39m\n\u001b[1;32m    372\u001b[0m \u001b[39mdef\u001b[39;00m \u001b[39mreduce\u001b[39m(\u001b[39mself\u001b[39m, func) \u001b[39m-\u001b[39m\u001b[39m>\u001b[39m \u001b[39mlist\u001b[39m[Block]:\n\u001b[1;32m    373\u001b[0m     \u001b[39m# We will apply the function and reshape the result into a single-row\u001b[39;00m\n\u001b[1;32m    374\u001b[0m     \u001b[39m#  Block with the same mgr_locs; squeezing will be done at a higher level\u001b[39;00m\n\u001b[1;32m    375\u001b[0m     \u001b[39massert\u001b[39;00m \u001b[39mself\u001b[39m\u001b[39m.\u001b[39mndim \u001b[39m==\u001b[39m \u001b[39m2\u001b[39m\n\u001b[0;32m--> 377\u001b[0m     result \u001b[39m=\u001b[39m func(\u001b[39mself\u001b[39;49m\u001b[39m.\u001b[39;49mvalues)\n\u001b[1;32m    379\u001b[0m     \u001b[39mif\u001b[39;00m \u001b[39mself\u001b[39m\u001b[39m.\u001b[39mvalues\u001b[39m.\u001b[39mndim \u001b[39m==\u001b[39m \u001b[39m1\u001b[39m:\n\u001b[1;32m    380\u001b[0m         res_values \u001b[39m=\u001b[39m result\n",
      "File \u001b[0;32m/opt/homebrew/lib/python3.10/site-packages/pandas/core/frame.py:11136\u001b[0m, in \u001b[0;36mDataFrame._reduce.<locals>.blk_func\u001b[0;34m(values, axis)\u001b[0m\n\u001b[1;32m  11134\u001b[0m         \u001b[39mreturn\u001b[39;00m np\u001b[39m.\u001b[39marray([result])\n\u001b[1;32m  11135\u001b[0m \u001b[39melse\u001b[39;00m:\n\u001b[0;32m> 11136\u001b[0m     \u001b[39mreturn\u001b[39;00m op(values, axis\u001b[39m=\u001b[39;49maxis, skipna\u001b[39m=\u001b[39;49mskipna, \u001b[39m*\u001b[39;49m\u001b[39m*\u001b[39;49mkwds)\n",
      "File \u001b[0;32m/opt/homebrew/lib/python3.10/site-packages/pandas/core/nanops.py:147\u001b[0m, in \u001b[0;36mbottleneck_switch.__call__.<locals>.f\u001b[0;34m(values, axis, skipna, **kwds)\u001b[0m\n\u001b[1;32m    145\u001b[0m         result \u001b[39m=\u001b[39m alt(values, axis\u001b[39m=\u001b[39maxis, skipna\u001b[39m=\u001b[39mskipna, \u001b[39m*\u001b[39m\u001b[39m*\u001b[39mkwds)\n\u001b[1;32m    146\u001b[0m \u001b[39melse\u001b[39;00m:\n\u001b[0;32m--> 147\u001b[0m     result \u001b[39m=\u001b[39m alt(values, axis\u001b[39m=\u001b[39;49maxis, skipna\u001b[39m=\u001b[39;49mskipna, \u001b[39m*\u001b[39;49m\u001b[39m*\u001b[39;49mkwds)\n\u001b[1;32m    149\u001b[0m \u001b[39mreturn\u001b[39;00m result\n",
      "File \u001b[0;32m/opt/homebrew/lib/python3.10/site-packages/pandas/core/nanops.py:404\u001b[0m, in \u001b[0;36m_datetimelike_compat.<locals>.new_func\u001b[0;34m(values, axis, skipna, mask, **kwargs)\u001b[0m\n\u001b[1;32m    401\u001b[0m \u001b[39mif\u001b[39;00m datetimelike \u001b[39mand\u001b[39;00m mask \u001b[39mis\u001b[39;00m \u001b[39mNone\u001b[39;00m:\n\u001b[1;32m    402\u001b[0m     mask \u001b[39m=\u001b[39m isna(values)\n\u001b[0;32m--> 404\u001b[0m result \u001b[39m=\u001b[39m func(values, axis\u001b[39m=\u001b[39;49maxis, skipna\u001b[39m=\u001b[39;49mskipna, mask\u001b[39m=\u001b[39;49mmask, \u001b[39m*\u001b[39;49m\u001b[39m*\u001b[39;49mkwargs)\n\u001b[1;32m    406\u001b[0m \u001b[39mif\u001b[39;00m datetimelike:\n\u001b[1;32m    407\u001b[0m     result \u001b[39m=\u001b[39m _wrap_results(result, orig_values\u001b[39m.\u001b[39mdtype, fill_value\u001b[39m=\u001b[39miNaT)\n",
      "File \u001b[0;32m/opt/homebrew/lib/python3.10/site-packages/pandas/core/nanops.py:720\u001b[0m, in \u001b[0;36mnanmean\u001b[0;34m(values, axis, skipna, mask)\u001b[0m\n\u001b[1;32m    718\u001b[0m count \u001b[39m=\u001b[39m _get_counts(values\u001b[39m.\u001b[39mshape, mask, axis, dtype\u001b[39m=\u001b[39mdtype_count)\n\u001b[1;32m    719\u001b[0m the_sum \u001b[39m=\u001b[39m values\u001b[39m.\u001b[39msum(axis, dtype\u001b[39m=\u001b[39mdtype_sum)\n\u001b[0;32m--> 720\u001b[0m the_sum \u001b[39m=\u001b[39m _ensure_numeric(the_sum)\n\u001b[1;32m    722\u001b[0m \u001b[39mif\u001b[39;00m axis \u001b[39mis\u001b[39;00m \u001b[39mnot\u001b[39;00m \u001b[39mNone\u001b[39;00m \u001b[39mand\u001b[39;00m \u001b[39mgetattr\u001b[39m(the_sum, \u001b[39m\"\u001b[39m\u001b[39mndim\u001b[39m\u001b[39m\"\u001b[39m, \u001b[39mFalse\u001b[39;00m):\n\u001b[1;32m    723\u001b[0m     count \u001b[39m=\u001b[39m cast(np\u001b[39m.\u001b[39mndarray, count)\n",
      "File \u001b[0;32m/opt/homebrew/lib/python3.10/site-packages/pandas/core/nanops.py:1678\u001b[0m, in \u001b[0;36m_ensure_numeric\u001b[0;34m(x)\u001b[0m\n\u001b[1;32m   1675\u001b[0m inferred \u001b[39m=\u001b[39m lib\u001b[39m.\u001b[39minfer_dtype(x)\n\u001b[1;32m   1676\u001b[0m \u001b[39mif\u001b[39;00m inferred \u001b[39min\u001b[39;00m [\u001b[39m\"\u001b[39m\u001b[39mstring\u001b[39m\u001b[39m\"\u001b[39m, \u001b[39m\"\u001b[39m\u001b[39mmixed\u001b[39m\u001b[39m\"\u001b[39m]:\n\u001b[1;32m   1677\u001b[0m     \u001b[39m# GH#44008, GH#36703 avoid casting e.g. strings to numeric\u001b[39;00m\n\u001b[0;32m-> 1678\u001b[0m     \u001b[39mraise\u001b[39;00m \u001b[39mTypeError\u001b[39;00m(\u001b[39mf\u001b[39m\u001b[39m\"\u001b[39m\u001b[39mCould not convert \u001b[39m\u001b[39m{\u001b[39;00mx\u001b[39m}\u001b[39;00m\u001b[39m to numeric\u001b[39m\u001b[39m\"\u001b[39m)\n\u001b[1;32m   1679\u001b[0m \u001b[39mtry\u001b[39;00m:\n\u001b[1;32m   1680\u001b[0m     x \u001b[39m=\u001b[39m x\u001b[39m.\u001b[39mastype(np\u001b[39m.\u001b[39mcomplex128)\n",
      "\u001b[0;31mTypeError\u001b[0m: Could not convert ['SV001SV002SV003SV004SV005'] to numeric"
     ]
    }
   ],
   "source": [
    "# Tính giá trị trung bình của từng cột\n",
    "mean_values = data_G4_df.mean()\n",
    "print(\"Giá trị trung bình của từng cột là:\")\n",
    "print(mean_values)\n",
    "\n",
    "#Điền giá trị trung bình vào các ô dữ liệu còn thiếu\n",
    "data_G4_df.fillna(data_G4_df.mean(), inplace=True)\n",
    "print(\"Bảng điểm sau khi điền các giá trị vào ô còn thiếu là:\")\n",
    "print(data_G4_df.fillna)\n"
   ]
  },
  {
   "cell_type": "markdown",
   "metadata": {},
   "source": [
    "BƯỚC 4 : Kiểm Tra Lại Toàn Bộ Dữ Liệu Sau Khi Đã Xử Lý"
   ]
  },
  {
   "cell_type": "code",
   "execution_count": 51,
   "metadata": {},
   "outputs": [
    {
     "name": "stdout",
     "output_type": "stream",
     "text": [
      "-- Tổng Dữ Liệu Bị Null --\n",
      "ID             0\n",
      "math           0\n",
      " literature    0\n",
      "english        0\n",
      "dtype: int64\n",
      "-- Dữ Liệu data_G4 Sau Khi Được Xử Lý -- \n",
      "      ID   math   literature  english\n",
      "0  SV001  8.500        9.000      7.5\n",
      "1  SV002  7.000        8.125      6.5\n",
      "2  SV003  9.000        8.500      8.0\n",
      "3  SV004  8.125        7.000      6.5\n",
      "4  SV005  8.000        8.000      7.0\n"
     ]
    }
   ],
   "source": [
    "# Kiểm tra xem còn dữ liệu bị Null không \n",
    "\n",
    "print(\"-- Tổng Dữ Liệu Bị Null --\")\n",
    "print(data_G4_df.isnull().sum())\n",
    "\n",
    "# Hiển thị toàn bộ dữ liệu \n",
    "\n",
    "print(\"-- Dữ Liệu data_G4 Sau Khi Được Xử Lý -- \")\n",
    "print(data_G4_df)\n",
    "\n"
   ]
  },
  {
   "cell_type": "markdown",
   "metadata": {},
   "source": [
    "KẾT LUẬN : DỮ LIỆU ĐÃ ĐƯỢC XỬ LÝ VÀ KHÔNG CÒN DỮ LIỆU BỊ NULL"
   ]
  }
 ],
 "metadata": {
  "kernelspec": {
   "display_name": "Python 3",
   "language": "python",
   "name": "python3"
  },
  "language_info": {
   "codemirror_mode": {
    "name": "ipython",
    "version": 3
   },
   "file_extension": ".py",
   "mimetype": "text/x-python",
   "name": "python",
   "nbconvert_exporter": "python",
   "pygments_lexer": "ipython3",
   "version": "3.12.3"
  }
 },
 "nbformat": 4,
 "nbformat_minor": 2
}
