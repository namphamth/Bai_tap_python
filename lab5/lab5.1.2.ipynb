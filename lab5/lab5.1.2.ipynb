{
 "cells": [
  {
   "cell_type": "markdown",
   "metadata": {},
   "source": [
    "LAB5.1"
   ]
  },
  {
   "cell_type": "code",
   "execution_count": 1,
   "metadata": {},
   "outputs": [
    {
     "name": "stdout",
     "output_type": "stream",
     "text": [
      "Đã in lần thứ : 1\n",
      "Đã in lần thứ : 2\n",
      "Đã in lần thứ : 3\n",
      "Đã in lần thứ : 4\n",
      "Đã in lần thứ : 5\n",
      "Đã in lần thứ : 6\n",
      "Đã in lần thứ : 7\n",
      "Đã in lần thứ : 8\n",
      "Đã in lần thứ : 9\n",
      "Đã in lần thứ : 10\n"
     ]
    }
   ],
   "source": [
    "import time\n",
    "class SimpleTask:\n",
    "    def run_task(self):\n",
    "        for i in range(1, 11):\n",
    "            print('Đã in lần thứ :',i)\n",
    "            time.sleep(2) # Dừng 2 giây giữa mỗi lần in\n",
    "def main():\n",
    "    task = SimpleTask()\n",
    "    task.run_task()\n",
    "if __name__ == \"__main__\":\n",
    "    main()"
   ]
  },
  {
   "cell_type": "markdown",
   "metadata": {},
   "source": [
    "LAB5.2"
   ]
  },
  {
   "cell_type": "code",
   "execution_count": 10,
   "metadata": {},
   "outputs": [
    {
     "name": "stdout",
     "output_type": "stream",
     "text": [
      "Đã in lần thứ :Đã in lần thứ : 1\n",
      "Đã in lần thứ : 1\n",
      " 1\n",
      "Đã in lần thứ : 1\n",
      "Đã in lần thứ :Đã in lần thứ : 2\n",
      "Đã in lần thứ : 2\n",
      "Đã in lần thứ : 2\n",
      " 2\n",
      "Đã in lần thứ : 3\n",
      "Đã in lần thứ : 3\n",
      "Đã in lần thứ : 3\n",
      "Đã in lần thứ : 3\n"
     ]
    }
   ],
   "source": [
    "import threading\n",
    "import time\n",
    "\n",
    "class SimpleTask:\n",
    "    def run_task(self):\n",
    "        for i in range(1, 4):\n",
    "            print('Đã in lần thứ :',i)\n",
    "            time.sleep(1)\n",
    "def main():\n",
    "    # Tạo và khởi chạy nhiều threads\n",
    "    tasks = [threading.Thread(target=SimpleTask().run_task) for _ in range(4)]\n",
    "    for task in tasks:\n",
    "            task.start()\n",
    "    for task in tasks:\n",
    "            task.join()\n",
    "if __name__ == \"__main__\":\n",
    "    main()     "
   ]
  },
  {
   "cell_type": "markdown",
   "metadata": {},
   "source": [
    "LAB 5.3\n"
   ]
  },
  {
   "cell_type": "code",
   "execution_count": 4,
   "metadata": {},
   "outputs": [
    {
     "name": "stdout",
     "output_type": "stream",
     "text": [
      "Counter đã tăng lên: 13Counter đã tăng lên: 14\n",
      "\n",
      "Counter đã tăng lên: 15\n",
      "Counter đã tăng lên: 16Counter đã tăng lên: 17\n",
      "Counter đã tăng lên: 18\n",
      "\n",
      "Counter đã tăng lên: 19\n",
      "Counter đã tăng lên: 20\n",
      "Counter đã tăng lên: 21\n",
      "Counter đã tăng lên: 22\n",
      "Counter đã tăng lên: 23\n",
      "Counter đã tăng lên: 24\n"
     ]
    }
   ],
   "source": [
    "class SimpleTask:\n",
    "    def run_task(self):\n",
    "        global counter\n",
    "        for _ in range(4):\n",
    "            time.sleep(2)\n",
    "            counter += 1 # Tăng counter mà không sử dụng lock\n",
    "            print(f\"Counter đã tăng lên: {counter}\")\n",
    "def main():\n",
    "    tasks = [threading.Thread(target=SimpleTask().run_task) for _ in range(3)]\n",
    "    for task in tasks:\n",
    "        task.start()\n",
    "    for task in tasks:\n",
    "        task.join()\n",
    "if __name__ == \"__main__\":\n",
    "    main() "
   ]
  },
  {
   "cell_type": "markdown",
   "metadata": {},
   "source": [
    "LAB 5.3.2"
   ]
  },
  {
   "cell_type": "code",
   "execution_count": 3,
   "metadata": {},
   "outputs": [
    {
     "name": "stdout",
     "output_type": "stream",
     "text": [
      "Counter đã tăng lên: 1\n",
      "Counter đã tăng lên: 2\n",
      "Counter đã tăng lên: 3\n",
      "Counter đã tăng lên: 4\n",
      "Counter đã tăng lên: 5\n",
      "Counter đã tăng lên: 6\n",
      "Counter đã tăng lên: 7\n",
      "Counter đã tăng lên: 8\n",
      "Counter đã tăng lên: 9\n",
      "Counter đã tăng lên: 10\n",
      "Counter đã tăng lên: 11\n",
      "Counter đã tăng lên: 12\n"
     ]
    }
   ],
   "source": [
    "import threading\n",
    "import time\n",
    "counter = 0\n",
    "counter_lock = threading.Lock()\n",
    "class SimpleTask:\n",
    "    def run_task(self):\n",
    "        global counter\n",
    "        for _ in range(3):\n",
    "            time.sleep(2)\n",
    "            with counter_lock:# với các couter_lock các thread sẽ bị khoá đến khi thực thi xong\n",
    "                counter += 1\n",
    "                print(f\"Counter đã tăng lên: {counter}\")\n",
    "def main():\n",
    "    tasks = [threading.Thread(target=SimpleTask().run_task) for _ in range(4)]\n",
    "    for task in tasks:\n",
    "        task.start()\n",
    "    for task in tasks:\n",
    "        task.join()\n",
    "if __name__ == \"__main__\":\n",
    "    main() "
   ]
  },
  {
   "cell_type": "code",
   "execution_count": null,
   "metadata": {},
   "outputs": [],
   "source": []
  }
 ],
 "metadata": {
  "kernelspec": {
   "display_name": "Python 3",
   "language": "python",
   "name": "python3"
  },
  "language_info": {
   "codemirror_mode": {
    "name": "ipython",
    "version": 3
   },
   "file_extension": ".py",
   "mimetype": "text/x-python",
   "name": "python",
   "nbconvert_exporter": "python",
   "pygments_lexer": "ipython3",
   "version": "3.10.10"
  }
 },
 "nbformat": 4,
 "nbformat_minor": 2
}
